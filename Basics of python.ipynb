{
 "cells": [
  {
   "cell_type": "code",
   "execution_count": null,
   "id": "e04d4222-bcf1-406c-94f4-df146f5ff523",
   "metadata": {},
   "outputs": [],
   "source": [
    "'''Basic of python\n",
    "\n",
    "*Various Datatypes in python\n",
    "*Variables\n",
    "*variables assignments\n",
    "*Print Formatting\n",
    "'''"
   ]
  },
  {
   "cell_type": "code",
   "execution_count": 1,
   "id": "aaac361a-98a5-4d45-a251-2420ce50266e",
   "metadata": {},
   "outputs": [
    {
     "data": {
      "text/plain": [
       "7"
      ]
     },
     "execution_count": 1,
     "metadata": {},
     "output_type": "execute_result"
    }
   ],
   "source": [
    "Arthimetic operators\n",
    "\n",
    "5 + 2"
   ]
  },
  {
   "cell_type": "code",
   "execution_count": 4,
   "id": "8ca2bfb2-316e-4b6f-8c7e-28fd2161219a",
   "metadata": {},
   "outputs": [
    {
     "data": {
      "text/plain": [
       "3"
      ]
     },
     "execution_count": 4,
     "metadata": {},
     "output_type": "execute_result"
    }
   ],
   "source": [
    "5 - 2\n"
   ]
  },
  {
   "cell_type": "code",
   "execution_count": 2,
   "id": "88cc5334-bc76-4f6c-ad92-d8e3f72e6606",
   "metadata": {},
   "outputs": [
    {
     "data": {
      "text/plain": [
       "20"
      ]
     },
     "execution_count": 2,
     "metadata": {},
     "output_type": "execute_result"
    }
   ],
   "source": [
    "4 * 5"
   ]
  },
  {
   "cell_type": "code",
   "execution_count": 1,
   "id": "208eaf37-73e2-47b6-82fe-fc6c6ff0d729",
   "metadata": {},
   "outputs": [
    {
     "data": {
      "text/plain": [
       "100"
      ]
     },
     "execution_count": 1,
     "metadata": {},
     "output_type": "execute_result"
    }
   ],
   "source": [
    "10**2"
   ]
  },
  {
   "cell_type": "code",
   "execution_count": 2,
   "id": "de454518-0138-4f40-b865-b4c07f72055d",
   "metadata": {},
   "outputs": [
    {
     "data": {
      "text/plain": [
       "50.0"
      ]
     },
     "execution_count": 2,
     "metadata": {},
     "output_type": "execute_result"
    }
   ],
   "source": [
    "100/2"
   ]
  },
  {
   "cell_type": "code",
   "execution_count": 3,
   "id": "468775a8-5843-4062-a08c-0b10d8d6b711",
   "metadata": {},
   "outputs": [
    {
     "data": {
      "text/plain": [
       "50"
      ]
     },
     "execution_count": 3,
     "metadata": {},
     "output_type": "execute_result"
    }
   ],
   "source": [
    "100//2"
   ]
  },
  {
   "cell_type": "code",
   "execution_count": 5,
   "id": "bb0353e7-eab0-4914-aacd-80413826bfcb",
   "metadata": {},
   "outputs": [
    {
     "data": {
      "text/plain": [
       "'revirevirevirevirevirevirevirevirevirevi'"
      ]
     },
     "execution_count": 5,
     "metadata": {},
     "output_type": "execute_result"
    }
   ],
   "source": [
    "10 * \"revi\""
   ]
  },
  {
   "cell_type": "code",
   "execution_count": null,
   "id": "47891ebf-92a3-4499-95a7-f27fa273119f",
   "metadata": {},
   "outputs": [],
   "source": [
    "##check the data types"
   ]
  },
  {
   "cell_type": "code",
   "execution_count": 6,
   "id": "94018724-a1b3-4648-8c2f-918b593ddd2f",
   "metadata": {},
   "outputs": [
    {
     "data": {
      "text/plain": [
       "int"
      ]
     },
     "execution_count": 6,
     "metadata": {},
     "output_type": "execute_result"
    }
   ],
   "source": [
    "type(100)"
   ]
  },
  {
   "cell_type": "code",
   "execution_count": 7,
   "id": "61bfd5e6-2906-41dc-a826-002d6439b294",
   "metadata": {},
   "outputs": [
    {
     "data": {
      "text/plain": [
       "float"
      ]
     },
     "execution_count": 7,
     "metadata": {},
     "output_type": "execute_result"
    }
   ],
   "source": [
    "type(10.9)"
   ]
  },
  {
   "cell_type": "code",
   "execution_count": 8,
   "id": "bc736261-750a-4747-9e61-7fc1cd508416",
   "metadata": {},
   "outputs": [
    {
     "data": {
      "text/plain": [
       "str"
      ]
     },
     "execution_count": 8,
     "metadata": {},
     "output_type": "execute_result"
    }
   ],
   "source": [
    "type(\"hello\")"
   ]
  },
  {
   "cell_type": "code",
   "execution_count": 9,
   "id": "5ef1d69a-e032-4dfc-86f8-516f4979b2cf",
   "metadata": {},
   "outputs": [
    {
     "data": {
      "text/plain": [
       "bool"
      ]
     },
     "execution_count": 9,
     "metadata": {},
     "output_type": "execute_result"
    }
   ],
   "source": [
    "type(True)"
   ]
  },
  {
   "cell_type": "code",
   "execution_count": null,
   "id": "954e19d6-1ed3-4b52-8190-208cf31da368",
   "metadata": {},
   "outputs": [],
   "source": [
    "## Strings"
   ]
  },
  {
   "cell_type": "code",
   "execution_count": 10,
   "id": "d65107e0-3164-4a44-b96b-8e09e42765cd",
   "metadata": {},
   "outputs": [
    {
     "data": {
      "text/plain": [
       "'hello world!'"
      ]
     },
     "execution_count": 10,
     "metadata": {},
     "output_type": "execute_result"
    }
   ],
   "source": [
    "## Strings\n",
    "\n",
    "\"hello world!\""
   ]
  },
  {
   "cell_type": "code",
   "execution_count": 11,
   "id": "2d515969-0858-4970-9da7-9476a34e7efc",
   "metadata": {},
   "outputs": [
    {
     "data": {
      "text/plain": [
       "str"
      ]
     },
     "execution_count": 11,
     "metadata": {},
     "output_type": "execute_result"
    }
   ],
   "source": [
    "type(\"revi\")"
   ]
  },
  {
   "cell_type": "code",
   "execution_count": null,
   "id": "469cdbf4-039e-4b83-b20a-4dba0410df9e",
   "metadata": {},
   "outputs": [],
   "source": [
    "## variables assignments"
   ]
  },
  {
   "cell_type": "code",
   "execution_count": 12,
   "id": "c68007f8-3e7c-4ddb-b7f1-ae621e2849c3",
   "metadata": {},
   "outputs": [
    {
     "data": {
      "text/plain": [
       "int"
      ]
     },
     "execution_count": 12,
     "metadata": {},
     "output_type": "execute_result"
    }
   ],
   "source": [
    "## variables assignments\n",
    "a = 10\n",
    "type(a)"
   ]
  },
  {
   "cell_type": "code",
   "execution_count": 13,
   "id": "686c9c7e-2d75-49fc-a437-303e6f6dd071",
   "metadata": {},
   "outputs": [
    {
     "data": {
      "text/plain": [
       "str"
      ]
     },
     "execution_count": 13,
     "metadata": {},
     "output_type": "execute_result"
    }
   ],
   "source": [
    "a = \"revi\"\n",
    "type(a)"
   ]
  },
  {
   "cell_type": "code",
   "execution_count": null,
   "id": "8e8f3c49-3ad4-4b89-bdc8-995291b7f341",
   "metadata": {},
   "outputs": [],
   "source": [
    "## mathematical operations with the variables assignments"
   ]
  },
  {
   "cell_type": "code",
   "execution_count": 16,
   "id": "f095511d-7eba-43e2-9afc-1af94eba7d03",
   "metadata": {},
   "outputs": [
    {
     "name": "stdout",
     "output_type": "stream",
     "text": [
      "30\n",
      "\n",
      "0.5\n",
      "\n",
      "-10\n",
      "\n",
      "200\n",
      "\n",
      "10\n",
      "\n",
      "20\n"
     ]
    }
   ],
   "source": [
    "a = 10\n",
    "b = 20\n",
    "\n",
    "print(a + b)\n",
    "\n",
    "print()\n",
    "\n",
    "print(a / b)\n",
    "\n",
    "print()\n",
    "\n",
    "print(a - b)\n",
    "\n",
    "print()\n",
    "\n",
    "print(a * b)\n",
    "\n",
    "print()\n",
    "\n",
    "print(a % b)\n",
    "\n",
    "print()\n",
    "\n",
    "print((a+b)+(a-b))"
   ]
  },
  {
   "cell_type": "code",
   "execution_count": 17,
   "id": "249263e4-0f79-4d22-a48e-6713b16d177f",
   "metadata": {},
   "outputs": [
    {
     "name": "stdout",
     "output_type": "stream",
     "text": [
      "hello\n"
     ]
    }
   ],
   "source": [
    "## various ways of printing\n",
    "\n",
    "print(\"hello\")"
   ]
  },
  {
   "cell_type": "code",
   "execution_count": 21,
   "id": "a1495f55-4024-42a3-a90e-e4d5583bad85",
   "metadata": {},
   "outputs": [
    {
     "name": "stdout",
     "output_type": "stream",
     "text": [
      "my first name is  revi  and last name is  teja \n",
      "\n",
      "my first name is  revi  and last name is  teja  \n",
      "\n",
      "my first name is  teja  and last name is  revi \n",
      "\n",
      "my first name is  revi  and last name is  teja \n"
     ]
    }
   ],
   "source": [
    "first_name = \" revi \"\n",
    "last_name = \" teja \"\n",
    "\n",
    "print(\"my first name is {} and last name is {}\".format(first_name,last_name))\n",
    "\n",
    "print()\n",
    "\n",
    "print(\"my first name is {first} and last name is {last} \".format(first=first_name,last=last_name))\n",
    "\n",
    "print()\n",
    "\n",
    "print(\"my first name is {} and last name is {}\".format(last_name,first_name))\n",
    "\n",
    "print()\n",
    "\n",
    "print(\"my first name is {first} and last name is {last}\".format(last=last_name,first=first_name))"
   ]
  },
  {
   "cell_type": "code",
   "execution_count": 22,
   "id": "9744c0c2-e851-418e-a8b7-df61822c57eb",
   "metadata": {},
   "outputs": [
    {
     "data": {
      "text/plain": [
       "4"
      ]
     },
     "execution_count": 22,
     "metadata": {},
     "output_type": "execute_result"
    }
   ],
   "source": [
    "len(\"revi\")"
   ]
  },
  {
   "cell_type": "code",
   "execution_count": 23,
   "id": "a3f5393d-2e0a-42c7-a95a-2d71cfb6b0e2",
   "metadata": {},
   "outputs": [
    {
     "data": {
      "text/plain": [
       "str"
      ]
     },
     "execution_count": 23,
     "metadata": {},
     "output_type": "execute_result"
    }
   ],
   "source": [
    "type(\" str\")"
   ]
  },
  {
   "cell_type": "code",
   "execution_count": 24,
   "id": "e2d89e03-cfef-4fdd-801f-b2a7da25f552",
   "metadata": {},
   "outputs": [
    {
     "data": {
      "text/plain": [
       "list"
      ]
     },
     "execution_count": 24,
     "metadata": {},
     "output_type": "execute_result"
    }
   ],
   "source": [
    "type([1,2,4,5,6])"
   ]
  },
  {
   "cell_type": "code",
   "execution_count": 25,
   "id": "ee7fa624-976a-4b02-9f91-8e6ddc2cd99d",
   "metadata": {},
   "outputs": [
    {
     "data": {
      "text/plain": [
       "tuple"
      ]
     },
     "execution_count": 25,
     "metadata": {},
     "output_type": "execute_result"
    }
   ],
   "source": [
    "type((1,2,3,4,5))"
   ]
  },
  {
   "cell_type": "code",
   "execution_count": null,
   "id": "ba0eaedf-97ad-415c-9edf-506ab09208ff",
   "metadata": {},
   "outputs": [],
   "source": []
  }
 ],
 "metadata": {
  "kernelspec": {
   "display_name": "Python 3 (ipykernel)",
   "language": "python",
   "name": "python3"
  },
  "language_info": {
   "codemirror_mode": {
    "name": "ipython",
    "version": 3
   },
   "file_extension": ".py",
   "mimetype": "text/x-python",
   "name": "python",
   "nbconvert_exporter": "python",
   "pygments_lexer": "ipython3",
   "version": "3.12.1"
  }
 },
 "nbformat": 4,
 "nbformat_minor": 5
}
