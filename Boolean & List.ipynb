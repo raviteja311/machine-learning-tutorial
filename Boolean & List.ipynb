{
 "cells": [
  {
   "cell_type": "code",
   "execution_count": null,
   "id": "8560e0eb-3647-4aa8-8515-0e823474000f",
   "metadata": {},
   "outputs": [],
   "source": [
    "'''\n",
    "Boolean Variables\n",
    "\n",
    "Boolean values are the two constant objects False and True\n",
    "\n",
    "They also used to reprsent truth values (othr values can also be consider false or true).\n",
    "\n",
    "In numeric contexts (for example,when used as the arguments to an arthimetic operators),they behave like the integers 0\n",
    "and 1 , respectively\n",
    "\n",
    "The built-in function bool() can be used to cast any value to a boolean,if the value can be interpreted as a\n",
    "a truth value \n",
    "\n",
    "They are written as false and True ,respectively\n",
    "\n",
    "\n",
    "'''"
   ]
  },
  {
   "cell_type": "code",
   "execution_count": 1,
   "id": "ac859cec-4c4f-426e-890d-de359432402b",
   "metadata": {},
   "outputs": [
    {
     "name": "stdout",
     "output_type": "stream",
     "text": [
      "True False\n"
     ]
    },
    {
     "data": {
      "text/plain": [
       "bool"
      ]
     },
     "execution_count": 1,
     "metadata": {},
     "output_type": "execute_result"
    }
   ],
   "source": [
    "print(True,False)\n",
    "type(True)\n",
    "type(False)"
   ]
  },
  {
   "cell_type": "code",
   "execution_count": 19,
   "id": "1e7a037e-30d4-467f-b001-52c488d98d2f",
   "metadata": {},
   "outputs": [
    {
     "name": "stdout",
     "output_type": "stream",
     "text": [
      "Revi\n",
      "revi\n",
      "to check if all char are numbers                  True\n",
      "to check if all char in the string are alphabetic True\n",
      "test if string contaons digits                    False\n",
      "test if string contains lower case                True\n",
      "test if dtring contains upper case                False\n",
      "test if string startswith H                       False\n",
      "test if string endswith D                         False\n",
      "test if string contains spaces                    False\n",
      "test if string contains title words               False\n"
     ]
    }
   ],
   "source": [
    "my_str = \"revi\"\n",
    "\n",
    "print(my_str.capitalize())\n",
    "print(my_str.casefold())\n",
    "print(\"to check if all char are numbers                 \",my_str.isalnum()) \n",
    "print(\"to check if all char in the string are alphabetic\",my_str.isalpha())\n",
    "print(\"test if string contaons digits                   \",my_str.isdigit())\n",
    "print(\"test if string contains lower case               \",my_str.islower())\n",
    "print(\"test if dtring contains upper case               \",my_str.isupper())\n",
    "print(\"test if string startswith H                      \",my_str.startswith('H'))\n",
    "print(\"test if string endswith D                        \",my_str.endswith('D'))\n",
    "print(\"test if string contains spaces                   \",my_str.isspace())\n",
    "print(\"test if string contains title words              \",my_str.istitle())\n"
   ]
  },
  {
   "cell_type": "code",
   "execution_count": null,
   "id": "5f5bfdc3-eaee-467e-967c-601fa2f038ce",
   "metadata": {},
   "outputs": [],
   "source": [
    "'''\n",
    "Boolean and Logical Operators\n",
    "'''"
   ]
  },
  {
   "cell_type": "code",
   "execution_count": 26,
   "id": "3fc852df-7368-45c1-983c-24a609ea307e",
   "metadata": {},
   "outputs": [
    {
     "name": "stdout",
     "output_type": "stream",
     "text": [
      "True\n",
      "False\n",
      "False\n",
      "False\n"
     ]
    }
   ],
   "source": [
    "# AND operator\n",
    "print(True and True)\n",
    "\n",
    "print(True and False)\n",
    "\n",
    "print(False and True)\n",
    "\n",
    "print(False and False)"
   ]
  },
  {
   "cell_type": "code",
   "execution_count": 28,
   "id": "cf542a5f-37e7-4c6e-a1a9-82583a119730",
   "metadata": {},
   "outputs": [
    {
     "name": "stdout",
     "output_type": "stream",
     "text": [
      "True\n",
      "True\n",
      "True\n",
      "False\n"
     ]
    }
   ],
   "source": [
    "#OR operators\n",
    "print(True or True)\n",
    "\n",
    "print(True or False)\n",
    "\n",
    "print(False or True)\n",
    "\n",
    "print(False or False)\n"
   ]
  },
  {
   "cell_type": "code",
   "execution_count": 35,
   "id": "efd5a5fc-e7ef-426c-abf4-947c863e273d",
   "metadata": {},
   "outputs": [
    {
     "name": "stdout",
     "output_type": "stream",
     "text": [
      "False\n",
      "True\n"
     ]
    }
   ],
   "source": [
    "#NOT operator\n",
    "print(not True)\n",
    "\n",
    "print(not False)"
   ]
  },
  {
   "cell_type": "code",
   "execution_count": 39,
   "id": "69f70dfd-9605-469f-a1fa-4d6d8092a9ac",
   "metadata": {},
   "outputs": [
    {
     "name": "stdout",
     "output_type": "stream",
     "text": [
      "False\n",
      "False\n"
     ]
    }
   ],
   "source": [
    "str_1 = \"Hello World\"\n",
    "str_2 = \"Wel come\"\n",
    "print(str_1.isalpha() or str_2.isalnum())\n",
    "print(str_1.isalpha() and str_2.isalnum())"
   ]
  },
  {
   "cell_type": "code",
   "execution_count": null,
   "id": "df78557d-a4c7-468d-a8be-34d5cae845a3",
   "metadata": {},
   "outputs": [],
   "source": [
    "'''\n",
    "Lists\n",
    "\n",
    "\n",
    "Ordered         : List items have a defined order that won’t change. New items are added at the end.\n",
    "Changeable      : You can modify, add, or remove items after creating a list.\n",
    "Allow Duplicates: Lists can contain items with the same value.\n",
    "\n",
    "'''"
   ]
  },
  {
   "cell_type": "code",
   "execution_count": 1,
   "id": "fe89f4b8-7f72-4d0a-bc44-4734221e8a38",
   "metadata": {},
   "outputs": [
    {
     "name": "stdout",
     "output_type": "stream",
     "text": [
      "['apple', 'banana', 'cherry']\n"
     ]
    }
   ],
   "source": [
    "'''\n",
    "Creating a List:\n",
    "Lists are created using square brackets []\n",
    "'''\n",
    "\n",
    "mylist = [\"apple\", \"banana\", \"cherry\"]\n",
    "print(mylist)\n"
   ]
  },
  {
   "cell_type": "code",
   "execution_count": 3,
   "id": "28ab8371-f237-4deb-9991-65daae349980",
   "metadata": {},
   "outputs": [
    {
     "name": "stdout",
     "output_type": "stream",
     "text": [
      "apple\n"
     ]
    }
   ],
   "source": [
    "'''\n",
    "Accessing List Items:\n",
    "List items are indexed (starting from 0)\n",
    "'''\n",
    "mylist = [\"apple\", \"banana\", \"cherry\"]\n",
    "print(mylist[0]) \n",
    "\n"
   ]
  },
  {
   "cell_type": "code",
   "execution_count": 4,
   "id": "e9799d27-ae99-40ca-aa5a-0994e355c37d",
   "metadata": {},
   "outputs": [
    {
     "name": "stdout",
     "output_type": "stream",
     "text": [
      "3\n"
     ]
    }
   ],
   "source": [
    "'''\n",
    "List Length:\n",
    "Use the len() function to get the number of items in a list.\n",
    "'''\n",
    "mylist = [\"apple\", \"banana\", \"cherry\"]\n",
    "\n",
    "print(len(mylist)) "
   ]
  },
  {
   "cell_type": "code",
   "execution_count": 6,
   "id": "07fda898-5425-4f60-8537-07ee36ea8d5a",
   "metadata": {},
   "outputs": [
    {
     "name": "stdout",
     "output_type": "stream",
     "text": [
      "<class 'list'>\n"
     ]
    }
   ],
   "source": [
    "mylist = [\"apple\", \"banana\", \"cherry\"]\n",
    "print(type(mylist))"
   ]
  },
  {
   "cell_type": "code",
   "execution_count": 7,
   "id": "57cc3415-7e9c-4e01-8019-c72bf9cb99fd",
   "metadata": {},
   "outputs": [
    {
     "name": "stdout",
     "output_type": "stream",
     "text": [
      "['mathematics', 'chemistry', 100, 200, 300]\n"
     ]
    }
   ],
   "source": [
    "lst = ['mathematics', 'chemistry', 100, 200 ,300]\n",
    "print(lst)"
   ]
  },
  {
   "cell_type": "code",
   "execution_count": 13,
   "id": "6350f723-17ab-4870-991e-e2f5f4b3b2e2",
   "metadata": {},
   "outputs": [
    {
     "name": "stdout",
     "output_type": "stream",
     "text": [
      "['apple', 'banana', 'cherry', 'orange', 'orange']\n"
     ]
    }
   ],
   "source": [
    "'''\n",
    "append()\n",
    "append is used to add elements in the list\n",
    "\n",
    "'''\n",
    "mylist.append('orange')\n",
    "print(mylist)"
   ]
  },
  {
   "cell_type": "code",
   "execution_count": 14,
   "id": "3140d468-d78d-4dde-99e7-c999e9239390",
   "metadata": {},
   "outputs": [
    {
     "name": "stdout",
     "output_type": "stream",
     "text": [
      "['apple', 'banana', 'grapes', 'cherry', 'orange', 'orange']\n"
     ]
    }
   ],
   "source": [
    "'''\n",
    "insert in a specific order\n",
    "'''\n",
    "mylist.insert(2,\"grapes\")\n",
    "print(mylist)"
   ]
  },
  {
   "cell_type": "code",
   "execution_count": 15,
   "id": "c05d3a76-ad5a-48fc-9acf-9a792c8a2f40",
   "metadata": {},
   "outputs": [
    {
     "name": "stdout",
     "output_type": "stream",
     "text": [
      "[1, 2, 3, 4, 5, 6, 7]\n"
     ]
    }
   ],
   "source": [
    "'''\n",
    "extend method\n",
    "'''\n",
    "\n",
    "l = [1,2,3,4,5]\n",
    "l.extend([6,7])\n",
    "print(l)"
   ]
  },
  {
   "cell_type": "code",
   "execution_count": 16,
   "id": "0b20c23e-7962-4f0d-8a19-bea6d678421d",
   "metadata": {},
   "outputs": [
    {
     "data": {
      "text/plain": [
       "28"
      ]
     },
     "execution_count": 16,
     "metadata": {},
     "output_type": "execute_result"
    }
   ],
   "source": [
    "'''\n",
    "operators that we can perform in a list\n",
    "'''\n",
    "sum(l)"
   ]
  },
  {
   "cell_type": "code",
   "execution_count": 17,
   "id": "8e7e7ca5-2b78-46b5-af8e-5143572a42a6",
   "metadata": {},
   "outputs": [
    {
     "name": "stdout",
     "output_type": "stream",
     "text": [
      "[1, 2, 3, 5, 6, 7]\n"
     ]
    }
   ],
   "source": [
    "'''\n",
    "pop method - to remove an elements from the list by using the indexing\n",
    "'''\n",
    "l.pop(3)\n",
    "print(l)\n"
   ]
  },
  {
   "cell_type": "code",
   "execution_count": 18,
   "id": "8ea81acc-f72e-4df3-ab06-fe558fb6dc2c",
   "metadata": {},
   "outputs": [
    {
     "name": "stdout",
     "output_type": "stream",
     "text": [
      "[2, 3, 5, 6, 7]\n"
     ]
    }
   ],
   "source": [
    "l.pop(0)\n",
    "print(l)"
   ]
  },
  {
   "cell_type": "code",
   "execution_count": 19,
   "id": "c1581c2a-f281-4fd2-8afe-076a5545cc6a",
   "metadata": {},
   "outputs": [
    {
     "data": {
      "text/plain": [
       "3"
      ]
     },
     "execution_count": 19,
     "metadata": {},
     "output_type": "execute_result"
    }
   ],
   "source": [
    "lst = [1,1,1,2,3,4,3,4]\n",
    "lst.count(1)\n"
   ]
  },
  {
   "cell_type": "code",
   "execution_count": 21,
   "id": "80328996-fabf-42f5-94d0-5a2f94770066",
   "metadata": {},
   "outputs": [
    {
     "name": "stdout",
     "output_type": "stream",
     "text": [
      "1\n",
      "4\n"
     ]
    }
   ],
   "source": [
    "'''\n",
    "finding minimum and maximum in the list\n",
    "'''\n",
    "print(min(lst))\n",
    "print(max(lst))"
   ]
  }
 ],
 "metadata": {
  "kernelspec": {
   "display_name": "Python 3 (ipykernel)",
   "language": "python",
   "name": "python3"
  },
  "language_info": {
   "codemirror_mode": {
    "name": "ipython",
    "version": 3
   },
   "file_extension": ".py",
   "mimetype": "text/x-python",
   "name": "python",
   "nbconvert_exporter": "python",
   "pygments_lexer": "ipython3",
   "version": "3.12.1"
  }
 },
 "nbformat": 4,
 "nbformat_minor": 5
}
