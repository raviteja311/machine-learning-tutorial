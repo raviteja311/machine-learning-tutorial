{
 "cells": [
  {
   "cell_type": "markdown",
   "id": "31388c61-ffb6-4096-b7c1-165c4e529688",
   "metadata": {},
   "source": [
    "# numpy arithematic operations\n"
   ]
  },
  {
   "cell_type": "code",
   "execution_count": 1,
   "id": "19c6b57e-5fc2-41af-9812-68a7eb5425c8",
   "metadata": {},
   "outputs": [
    {
     "name": "stdout",
     "output_type": "stream",
     "text": [
      "[1 2 3 4]\n",
      "\n",
      "[4 5 6 7]\n"
     ]
    }
   ],
   "source": [
    "# numpy arithematic operations\n",
    "\n",
    "#ADD\n",
    "\n",
    "import numpy as np\n",
    "\n",
    "a1 = np.array([1,2,3,4])\n",
    "print(a1)\n",
    "\n",
    "print()\n",
    "\n",
    "a1i = a1 + 3\n",
    "print(a1i)\n"
   ]
  },
  {
   "cell_type": "code",
   "execution_count": 3,
   "id": "2c814175-9d67-421a-8f76-6273159ce3fd",
   "metadata": {},
   "outputs": [
    {
     "name": "stdout",
     "output_type": "stream",
     "text": [
      "[1 2 3 4]\n",
      "\n",
      "[-2 -1  0  1]\n"
     ]
    }
   ],
   "source": [
    "\n",
    "#SUBTARCT\n",
    "\n",
    "import numpy as np\n",
    "\n",
    "a2 = np.array([1,2,3,4])\n",
    "print(a2)\n",
    "\n",
    "print()\n",
    "\n",
    "a1i = a2 - 3\n",
    "print(a1i)"
   ]
  },
  {
   "cell_type": "code",
   "execution_count": 4,
   "id": "9517ef02-18cb-4547-98df-9e826fdfb95a",
   "metadata": {},
   "outputs": [
    {
     "name": "stdout",
     "output_type": "stream",
     "text": [
      "[1 2 3 4]\n",
      "\n",
      "[ 3  6  9 12]\n"
     ]
    }
   ],
   "source": [
    "\n",
    "# MULTIPLY\n",
    "\n",
    "import numpy as np\n",
    "\n",
    "a3 = np.array([1,2,3,4])\n",
    "print(a3)\n",
    "\n",
    "print()\n",
    "\n",
    "a1i = a3 * 3\n",
    "print(a1i)"
   ]
  },
  {
   "cell_type": "code",
   "execution_count": 5,
   "id": "228a69b8-2157-48d7-84b9-11ed70569693",
   "metadata": {},
   "outputs": [
    {
     "name": "stdout",
     "output_type": "stream",
     "text": [
      "[1 2 3 4]\n",
      "Data Type : int32\n",
      "\n",
      "[0.33333333 0.66666667 1.         1.33333333]\n",
      "Data Type : float64\n"
     ]
    }
   ],
   "source": [
    "# DIVIDE\n",
    "\n",
    "a4 = np.array([1,2,3,4])\n",
    "print(a4)\n",
    "print(\"Data Type :\",a4.dtype)\n",
    "\n",
    "print()\n",
    "\n",
    "a4i = a4 / 3\n",
    "print(a4i)\n",
    "print(\"Data Type :\",a4i.dtype)"
   ]
  },
  {
   "cell_type": "code",
   "execution_count": 6,
   "id": "8de55bdd-7a22-428e-b79d-c7ed238b29bb",
   "metadata": {},
   "outputs": [
    {
     "name": "stdout",
     "output_type": "stream",
     "text": [
      "[1 2 3 4]\n",
      "\n",
      "[1 2 0 1]\n"
     ]
    }
   ],
   "source": [
    "a5 = np.array([1,2,3,4])\n",
    "print(a5)\n",
    "\n",
    "print()\n",
    "\n",
    "a5i = a5 % 3\n",
    "print(a5i)"
   ]
  },
  {
   "cell_type": "code",
   "execution_count": 11,
   "id": "c317b979-bb6b-4bed-9ded-dd91cfed7e84",
   "metadata": {},
   "outputs": [
    {
     "name": "stdout",
     "output_type": "stream",
     "text": [
      "[1 2 3 4]\n",
      "[6 7 8 9]\n",
      "\n",
      "[ 7  9 11 13]\n",
      "\n",
      "[-5 -5 -5 -5]\n",
      "\n",
      "[ 7  9 11 13]\n"
     ]
    }
   ],
   "source": [
    "a6i = np.array([1,2,3,4])\n",
    "a6ii = np.array([6,7,8,9])\n",
    "print(a6i)\n",
    "print(a6ii)\n",
    "print()\n",
    "\n",
    "a6iii = a6i + a6ii\n",
    "print(a6iii)\n",
    "\n",
    "print()\n",
    "\n",
    "a6iiii = a6i - a6ii\n",
    "print(a6iiii)\n",
    "print()\n",
    "\n",
    "a6iiiii = np.add(a6i,a6ii)\n",
    "print(a6iiiii)\n",
    "\n"
   ]
  },
  {
   "cell_type": "code",
   "execution_count": 13,
   "id": "20c842a8-6027-4599-a1f1-d8bce4ef9f4a",
   "metadata": {},
   "outputs": [
    {
     "name": "stdout",
     "output_type": "stream",
     "text": [
      "[[1 2 3 4]\n",
      " [4 5 6 7]]\n",
      "\n",
      "[[4 5 6 7]\n",
      " [1 2 3 4]]\n",
      "\n",
      "[[ 5  7  9 11]\n",
      " [ 5  7  9 11]]\n",
      "\n",
      "[[-3 -3 -3 -3]\n",
      " [ 3  3  3  3]]\n"
     ]
    }
   ],
   "source": [
    "a7 = np.array([[1,2,3,4],[4,5,6,7]])\n",
    "print(a7)\n",
    "\n",
    "print()\n",
    "\n",
    "a7i = np.array([[4,5,6,7],[1,2,3,4]])\n",
    "print(a7i)\n",
    "\n",
    "print()\n",
    "\n",
    "a7ii = a7 + a7i\n",
    "print(a7ii)\n",
    "\n",
    "print()\n",
    "\n",
    "a7iii = a7 - a7i\n",
    "print(a7iii)"
   ]
  },
  {
   "cell_type": "code",
   "execution_count": 14,
   "id": "64563bf2-aa3d-4e06-8707-0af67b1382ea",
   "metadata": {},
   "outputs": [
    {
     "name": "stdout",
     "output_type": "stream",
     "text": [
      "[1 2 3 4]\n",
      "\n",
      "[1 0 0 0]\n"
     ]
    }
   ],
   "source": [
    "a8 = np.array([1,2,3,4])\n",
    "print(a8)\n",
    "\n",
    "print()\n",
    "\n",
    "a8i = np.reciprocal(a8)\n",
    "\n",
    "print(a8i)"
   ]
  },
  {
   "cell_type": "markdown",
   "id": "d9e87b44-8290-40d6-bf66-fb27eb350f9d",
   "metadata": {},
   "source": [
    "#arithematic functions in numpy arrays.....\n",
    "\n"
   ]
  },
  {
   "cell_type": "code",
   "execution_count": 8,
   "id": "cbcd121c-6dad-45a5-adbd-49b6deceff25",
   "metadata": {},
   "outputs": [
    {
     "name": "stdout",
     "output_type": "stream",
     "text": [
      "[ 1  4  6  7  4  9  3  7 66]\n",
      "\n",
      "MAX : 66\n",
      "\n",
      "MIN : 1\n",
      "\n",
      "MAX : 66   POSITION : 8\n",
      "\n",
      "MIN : 1    POSITION : 0\n",
      "\n",
      "SQRT : [1.         2.         2.44948974 2.64575131 2.         3.\n",
      " 1.73205081 2.64575131 8.1240384 ]\n"
     ]
    }
   ],
   "source": [
    " import numpy as np \n",
    "\n",
    "b1 = np.array([1,4,6,7,4,9,3,7,66])\n",
    "print(b1)\n",
    "print()\n",
    "\n",
    "#finding the maximum in the given array\n",
    "print(\"MAX :\",np.max(b1))\n",
    "\n",
    "print()\n",
    "\n",
    "#finding the minimum in the given array\n",
    "print(\"MIN :\",np.min(b1))\n",
    "\n",
    "print()\n",
    "\n",
    "#finding the position of the maximum and minimum value of the array\n",
    "print(\"MAX :\",np.max(b1),\"  POSITION :\",np.argmax(b1))\n",
    "\n",
    "print()\n",
    "\n",
    "print(\"MIN :\",np.min(b1),\"   POSITION :\",np.argmin(b1))\n",
    "\n",
    "print()\n",
    "\n",
    "#sqrt in numpy \n",
    "\n",
    "print(\"SQRT :\",np.sqrt(b1))\n"
   ]
  },
  {
   "cell_type": "code",
   "execution_count": 11,
   "id": "ef2910b9-fa82-4835-bee5-b80d2091ca62",
   "metadata": {},
   "outputs": [
    {
     "name": "stdout",
     "output_type": "stream",
     "text": [
      "[[4 5 6 7]\n",
      " [1 5 3 4]]\n",
      "\n",
      "[4 1]\n",
      "\n",
      "[1 5 3 4]\n"
     ]
    }
   ],
   "source": [
    "b2 = np.array([[4,5,6,7],[1,5,3,4]])\n",
    "print(b2)\n",
    "\n",
    "print()\n",
    "\n",
    "print(np.min(b2,axis=1))\n",
    "\n",
    "print()\n",
    "\n",
    "print(np.min(b2,axis=0))\n",
    "\n",
    "\n",
    "\n"
   ]
  },
  {
   "cell_type": "code",
   "execution_count": 10,
   "id": "affc596a-0707-4186-a394-f9af5bd6f7b1",
   "metadata": {},
   "outputs": [
    {
     "name": "stdout",
     "output_type": "stream",
     "text": [
      "[ 0.84147098  0.90929743  0.14112001 -0.7568025  -0.95892427]\n",
      "\n",
      "[ 0.54030231 -0.41614684 -0.9899925  -0.65364362  0.28366219]\n",
      "\n",
      "[ 1  3  6 10 15]\n"
     ]
    }
   ],
   "source": [
    "#trigonometry in the numpy\n",
    "\n",
    "b3 = np.array([1,2,3,4,5])\n",
    "\n",
    "print(np.sin(b3))\n",
    "\n",
    "print()\n",
    "\n",
    "print(np.cos(b3))\n",
    "\n",
    "print()\n",
    "\n",
    "# the cumsum() fuction is just like the fibonanci sequence\n",
    "print(np.cumsum(b3))"
   ]
  },
  {
   "cell_type": "markdown",
   "id": "5a4abfac-545f-497b-b57f-a961ff4f1317",
   "metadata": {},
   "source": [
    "#shape and reshaping i the numpy array\n"
   ]
  },
  {
   "cell_type": "code",
   "execution_count": 15,
   "id": "ab768605-4adf-4000-bf6a-bf3c5b2698f9",
   "metadata": {},
   "outputs": [
    {
     "name": "stdout",
     "output_type": "stream",
     "text": [
      "[[1 2]\n",
      " [6 7]]\n",
      "\n",
      "(2, 2)\n",
      "\n",
      "[[1 2 3 4]\n",
      " [5 6 7 8]]\n",
      "\n",
      "(2, 4)\n"
     ]
    }
   ],
   "source": [
    "c1 = np.array([[1,2],[6,7]])\n",
    "print(c1)\n",
    "\n",
    "print()\n",
    "\n",
    "print(c1.shape)\n",
    "\n",
    "print()\n",
    "\n",
    "c2 = np.array([[1,2,3,4],[5,6,7,8]])\n",
    "print(c2)\n",
    "\n",
    "print()\n",
    "\n",
    "print(c2.shape)"
   ]
  },
  {
   "cell_type": "code",
   "execution_count": 18,
   "id": "42a1d8d9-0c0a-4094-88f6-d7d73bd23c56",
   "metadata": {},
   "outputs": [
    {
     "name": "stdout",
     "output_type": "stream",
     "text": [
      "[[[[[1 2 3 4]]]]]\n",
      "\n",
      "5\n",
      "\n",
      "(1, 1, 1, 1, 4)\n"
     ]
    }
   ],
   "source": [
    "c3 = np.array([1,2,3,4],ndmin = 5)\n",
    "print(c3)\n",
    "\n",
    "print()\n",
    "\n",
    "print(c3.ndim)\n",
    "\n",
    "print()\n",
    "\n",
    "print(c3.shape)"
   ]
  },
  {
   "cell_type": "code",
   "execution_count": null,
   "id": "13a7f3eb-3c2a-4118-a0f6-c667cafedc56",
   "metadata": {},
   "outputs": [],
   "source": [
    "#reshape"
   ]
  },
  {
   "cell_type": "code",
   "execution_count": 22,
   "id": "98fd2ad0-e764-4b53-be1c-23a2cf12442c",
   "metadata": {},
   "outputs": [
    {
     "name": "stdout",
     "output_type": "stream",
     "text": [
      "[1 2 3 4 5 6]\n",
      "1\n",
      "\n",
      "[[1 2]\n",
      " [3 4]\n",
      " [5 6]]\n",
      "2\n"
     ]
    }
   ],
   "source": [
    "# reshaping the one dimendion to two dimension\n",
    "\n",
    "c4 = np.array([1,2,3,4,5,6])\n",
    "print(c4)\n",
    "print(c4.ndim)\n",
    "\n",
    "print()\n",
    "\n",
    "#c5 = c4.reshape(3,2)\n",
    "# 3 --> 3 refers to the no. of rows\n",
    "# 2 --> 2 refers to the no. of elements in the one row\n",
    "\n",
    "c5 = c4.reshape(3,2)\n",
    "print(c5)\n",
    "print(c5.ndim)"
   ]
  },
  {
   "cell_type": "code",
   "execution_count": 30,
   "id": "262b5f9b-6c9d-449f-b990-f9fce11853ef",
   "metadata": {},
   "outputs": [
    {
     "name": "stdout",
     "output_type": "stream",
     "text": [
      "[ 1  2  3  4  5  6  7  8  9 12 13 14]\n",
      "1\n",
      "\n",
      "[[[ 1  2]\n",
      "  [ 3  4]\n",
      "  [ 5  6]]\n",
      "\n",
      " [[ 7  8]\n",
      "  [ 9 12]\n",
      "  [13 14]]]\n",
      "3\n",
      "\n",
      "[ 1  2  3  4  5  6  7  8  9 12 13 14]\n",
      "1\n"
     ]
    }
   ],
   "source": [
    "#reshaping the one dimension to three dimension\n",
    "\n",
    "c6 = np.array([1,2,3,4,5,6,7,8,9,12,13,14])\n",
    "print(c6)\n",
    "print(c6.ndim)\n",
    "\n",
    "print()\n",
    "\n",
    "#c5 = c4.reshape(2,3,2)\n",
    "# 2 --> 3 refers to the no. of rows\n",
    "# 3 --> 2 refers to the no. of elements in the one row\n",
    "# 2 --> 2 refers to the\n",
    "c7 = c6.reshape(2,3,2)\n",
    "print(c7)\n",
    "print(c7.ndim)\n",
    "\n",
    "print()\n",
    "\n",
    "# three dimension to one dimension\n",
    "\n",
    "c8 = c7.reshape(-1)\n",
    "print(c8)\n",
    "print(c8.ndim)"
   ]
  },
  {
   "cell_type": "markdown",
   "id": "ba5a8d5e-0c6d-4552-b24d-444134bf6779",
   "metadata": {},
   "source": [
    "#numpy insert and delete array dunction...\n"
   ]
  },
  {
   "cell_type": "code",
   "execution_count": 13,
   "id": "d4a66365-e32b-485d-bc1d-0c32bdb24bec",
   "metadata": {},
   "outputs": [
    {
     "name": "stdout",
     "output_type": "stream",
     "text": [
      "[1 2 3 4 5]\n",
      "\n",
      "<class 'numpy.ndarray'>\n",
      "\n",
      "[ 1  2 40  3  4  5]\n",
      "\n",
      "[1.  2.  3.  4.  5.  6.5]\n"
     ]
    }
   ],
   "source": [
    "# insert \n",
    "\n",
    "import numpy as np\n",
    "\n",
    "var = np.array([1,2,3,4,5])\n",
    "print(var)\n",
    "\n",
    "print()\n",
    "\n",
    "print(type(var))\n",
    "\n",
    "print()\n",
    "\n",
    "v= np.insert(var, 2, 40)\n",
    "#           (var,index value to insert the value,value)\n",
    "print(v)\n",
    "\n",
    "print()\n",
    "\n",
    "# by using the append(function)\n",
    "\n",
    "x = np.append(var,6.5)\n",
    "print(x)"
   ]
  },
  {
   "cell_type": "code",
   "execution_count": 14,
   "id": "c0b966bb-4a74-48d1-b5d7-5eb8c2a0c190",
   "metadata": {},
   "outputs": [
    {
     "name": "stdout",
     "output_type": "stream",
     "text": [
      "[[1 2 3]\n",
      " [6 7 8]]\n",
      "\n",
      "2\n",
      "\n",
      "[[ 1  2 22  3]\n",
      " [ 6  7 23  8]]\n",
      "\n",
      "[[ 1  2  3]\n",
      " [ 6  7  8]\n",
      " [22 22 22]]\n",
      "\n",
      "[[ 1  2  3]\n",
      " [ 6  7  8]\n",
      " [45 44 43]]\n"
     ]
    }
   ],
   "source": [
    "#Two dimensional array...\n",
    "\n",
    "var1 = np.array([[1,2,3],[6,7,8]])\n",
    "print(var1)\n",
    "\n",
    "print()\n",
    "\n",
    "print(var1.ndim)\n",
    "\n",
    "print()\n",
    "\n",
    "v1 = np.insert(var1 , 2 , [22,23],axis=1)\n",
    "print(v1)\n",
    "\n",
    "\n",
    "print()\n",
    "\n",
    "v2 = np.insert(var1 , 2 , [22],axis=0)\n",
    "print(v2)\n",
    "\n",
    "print()\n",
    "\n",
    "# by using the append() function\n",
    "\n",
    "x = np.append(var1,[[45,44,43]],axis=0)\n",
    "print(x)"
   ]
  },
  {
   "cell_type": "code",
   "execution_count": null,
   "id": "cb87e023-6724-45d1-8128-7775295e5b72",
   "metadata": {},
   "outputs": [],
   "source": [
    "# delete"
   ]
  },
  {
   "cell_type": "code",
   "execution_count": 15,
   "id": "23a5cd8d-fa03-4e7c-9e4d-2348e4150a76",
   "metadata": {},
   "outputs": [
    {
     "name": "stdout",
     "output_type": "stream",
     "text": [
      "[1 2 3 4 5]\n",
      "\n",
      "[1 2 4 5]\n"
     ]
    }
   ],
   "source": [
    "import numpy as np\n",
    "\n",
    "var1 = np.array([1,2,3,4,5])\n",
    "print(var1)\n",
    "\n",
    "print()\n",
    "\n",
    "d = np.delete(var1,2)\n",
    "#             (var,index value )\n",
    "print(d)"
   ]
  },
  {
   "cell_type": "markdown",
   "id": "834c8bef-d0bf-4e23-8fc6-860a4335b62f",
   "metadata": {},
   "source": [
    "# THE CONCEPT OF MATRIX NUMPY ARRAY IN PYTHON...\n"
   ]
  },
  {
   "cell_type": "code",
   "execution_count": 4,
   "id": "4ae632a0-2eab-44d9-abad-fb29e7a60976",
   "metadata": {},
   "outputs": [
    {
     "name": "stdout",
     "output_type": "stream",
     "text": [
      "[[1 2 3]\n",
      " [1 2 3]]\n",
      "\n",
      "<class 'numpy.matrix'>\n",
      "[[1 2 3]\n",
      " [1 2 3]]\n",
      "\n",
      "<class 'numpy.ndarray'>\n"
     ]
    }
   ],
   "source": [
    "# Matrix in numpy arrays...\n",
    "\n",
    "# Create matrix in numpy...\n",
    "\n",
    "import numpy as np\n",
    "\n",
    "var = np.matrix([[1,2,3,],[1,2,3]])\n",
    "print(var)\n",
    "\n",
    "print()\n",
    "\n",
    "print(type(var))\n",
    "\n",
    "var1 = np.array([[1,2,3],[1,2,3]])\n",
    "print(var1)\n",
    "\n",
    "print()\n",
    "\n",
    "print(type(var1))"
   ]
  },
  {
   "cell_type": "code",
   "execution_count": 12,
   "id": "5a0a4c0d-871c-46e5-9521-56e395befe53",
   "metadata": {},
   "outputs": [
    {
     "name": "stdout",
     "output_type": "stream",
     "text": [
      "[[1 2 3]\n",
      " [1 2 3]]\n",
      "\n",
      "[[1 2 3]\n",
      " [1 2 3]]\n",
      "\n",
      "[[2 4 6]\n",
      " [2 4 6]]\n"
     ]
    }
   ],
   "source": [
    "#Addition of the two matrices...\n",
    "\n",
    "a = np.matrix([[1,2,3],[1,2,3]])\n",
    "print(a)\n",
    "\n",
    "print()\n",
    "\n",
    "a1 = np.matrix([[1,2,3],[1,2,3]])\n",
    "print(a1)\n",
    "\n",
    "print()\n",
    "\n",
    "print(a + a1)"
   ]
  },
  {
   "cell_type": "code",
   "execution_count": 16,
   "id": "bcb6dd46-f93c-47bf-874f-77ac544dd8e4",
   "metadata": {},
   "outputs": [
    {
     "name": "stdout",
     "output_type": "stream",
     "text": [
      "[[1 2]\n",
      " [1 2]]\n",
      "\n",
      "[[1 3]\n",
      " [1 2]]\n",
      "\n",
      "[[3 7]\n",
      " [3 7]]\n",
      "\n",
      "[[3 6]\n",
      " [3 6]]\n"
     ]
    }
   ],
   "source": [
    "# Multiplcation of the two matrices...\n",
    "\n",
    "a = np.matrix([[1,2],[1,2]])\n",
    "print(a)\n",
    "\n",
    "print()\n",
    "\n",
    "a1 = np.matrix([[1,3],[1,2]])\n",
    "print(a1)\n",
    "\n",
    "print()\n",
    "\n",
    "# Matrix calculation\n",
    "print(a.dot(a1))\n",
    "\n",
    "print()\n",
    "\n",
    "#Array calculation\n",
    "print(a * a)"
   ]
  },
  {
   "cell_type": "code",
   "execution_count": null,
   "id": "e5ae3282-26ec-4c59-b494-acd2bb499d2e",
   "metadata": {},
   "outputs": [],
   "source": [
    "# Matrix function in numpay arrays"
   ]
  },
  {
   "cell_type": "code",
   "execution_count": 19,
   "id": "6632dad0-6101-41b7-a3bf-24fa228eb640",
   "metadata": {},
   "outputs": [
    {
     "name": "stdout",
     "output_type": "stream",
     "text": [
      "[[1 2 3]\n",
      " [4 5 6]]\n",
      "\n",
      "[[1 4]\n",
      " [2 5]\n",
      " [3 6]]\n",
      "\n",
      "[[1 4]\n",
      " [2 5]\n",
      " [3 6]]\n"
     ]
    }
   ],
   "source": [
    "# Transpose...\n",
    "\n",
    "import numpy as np\n",
    "\n",
    "var = np.matrix([[1,2,3],[4,5,6]])\n",
    "print(var)\n",
    "\n",
    "print()\n",
    "\n",
    "print(np.transpose(var))\n",
    "\n",
    "print()\n",
    "\n",
    "print(var.T)\n"
   ]
  },
  {
   "cell_type": "code",
   "execution_count": 23,
   "id": "0d31f8ef-cb7e-4c5e-8ef9-2a46adb89967",
   "metadata": {},
   "outputs": [
    {
     "name": "stdout",
     "output_type": "stream",
     "text": [
      "[[1 2 3]\n",
      " [4 5 6]]\n",
      "\n",
      "[[1 4]\n",
      " [2 5]\n",
      " [3 6]]\n"
     ]
    }
   ],
   "source": [
    "# Swapaxes ...\n",
    "\n",
    "import numpy as np\n",
    "\n",
    "var = np.matrix([[1,2,3],[4,5,6]])\n",
    "print(var)\n",
    "\n",
    "print()\n",
    "\n",
    "print(np.swapaxes(var,0,1))\n",
    "#                 (var,axis=0,axis=1)\n",
    "\n"
   ]
  },
  {
   "cell_type": "code",
   "execution_count": 24,
   "id": "15517ad4-cd5e-4c73-af53-1ec616d6e0bf",
   "metadata": {},
   "outputs": [
    {
     "name": "stdout",
     "output_type": "stream",
     "text": [
      "[[1 2]\n",
      " [3 4]]\n",
      "\n",
      "[[1 3]\n",
      " [2 4]]\n"
     ]
    }
   ],
   "source": [
    "# Square matrix swapaxes...\n",
    "\n",
    "var2 = np.matrix([[1,2],[3,4]])\n",
    "print(var2)\n",
    "\n",
    "print()\n",
    "\n",
    "print(np.swapaxes(var2,0,1))"
   ]
  },
  {
   "cell_type": "code",
   "execution_count": 25,
   "id": "a60b440e-8eeb-4263-9215-77fe0200f826",
   "metadata": {},
   "outputs": [
    {
     "name": "stdout",
     "output_type": "stream",
     "text": [
      "[[1 2]\n",
      " [3 4]]\n",
      "\n",
      "[[-2.   1. ]\n",
      " [ 1.5 -0.5]]\n"
     ]
    }
   ],
   "source": [
    "# Inverse...\n",
    "\n",
    "\n",
    "var3 = np.matrix([[1,2],[3,4]])\n",
    "print(var3)\n",
    "\n",
    "print()\n",
    "\n",
    "print(np.linalg.inv(var3))\n"
   ]
  },
  {
   "cell_type": "code",
   "execution_count": 41,
   "id": "2d9ee315-cb83-4870-8454-2a663ec2dba5",
   "metadata": {},
   "outputs": [
    {
     "name": "stdout",
     "output_type": "stream",
     "text": [
      "[[1 2]\n",
      " [3 4]]\n",
      "\n",
      "[[1 0]\n",
      " [0 1]]\n",
      "\n",
      "[[ 7 10]\n",
      " [15 22]]\n",
      "\n",
      "[[ 5.5  -2.5 ]\n",
      " [-3.75  1.75]]\n"
     ]
    }
   ],
   "source": [
    "# power...\n",
    "\n",
    "# np.linalg.matrix_power(var,n)...\n",
    "\n",
    "# three conditions for n\n",
    "\n",
    "# i) n = 0 :- Identity matrix...\n",
    "# ii) n > 0 :- Power(multiply)...\n",
    "# iii) n < 0 :- Inversion * power...\n",
    "\n",
    "\n",
    "var4 = np.matrix([[1,2],[3,4]])\n",
    "print(var4)\n",
    "\n",
    "print()\n",
    "\n",
    "print(np.linalg.matrix_power(var4,0))\n",
    "\n",
    "\n",
    "print()\n",
    "\n",
    "print(np.linalg.matrix_power(var4,2))\n",
    "\n",
    "\n",
    "print()\n",
    "\n",
    "print(np.linalg.matrix_power(var4,-2))\n"
   ]
  },
  {
   "cell_type": "code",
   "execution_count": 42,
   "id": "990aa5ad-84fd-4c7a-a223-ff03d9a88663",
   "metadata": {},
   "outputs": [
    {
     "name": "stdout",
     "output_type": "stream",
     "text": [
      "[[1 2]\n",
      " [3 4]]\n",
      "\n",
      "-2.0000000000000004\n"
     ]
    }
   ],
   "source": [
    "# Deteminant...\n",
    "\n",
    "\n",
    "var5 = np.matrix([[1,2],[3,4]])\n",
    "print(var5)\n",
    "\n",
    "print()\n",
    "\n",
    "print(np.linalg.det(var5))\n"
   ]
  }
 ],
 "metadata": {
  "kernelspec": {
   "display_name": "Python 3 (ipykernel)",
   "language": "python",
   "name": "python3"
  },
  "language_info": {
   "codemirror_mode": {
    "name": "ipython",
    "version": 3
   },
   "file_extension": ".py",
   "mimetype": "text/x-python",
   "name": "python",
   "nbconvert_exporter": "python",
   "pygments_lexer": "ipython3",
   "version": "3.12.1"
  }
 },
 "nbformat": 4,
 "nbformat_minor": 5
}
