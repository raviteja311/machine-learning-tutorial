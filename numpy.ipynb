{
 "cells": [
  {
   "cell_type": "code",
   "execution_count": 5,
   "id": "d3ef3bdf-173e-48a6-8460-5760373c4149",
   "metadata": {},
   "outputs": [
    {
     "name": "stdout",
     "output_type": "stream",
     "text": [
      "[1 2 3 4]\n",
      "<class 'numpy.ndarray'>\n"
     ]
    }
   ],
   "source": [
    "\n",
    "import numpy as np\n",
    "arr = np.array([1,2,3,4])\n",
    "print(arr)\n",
    "print(type(arr))"
   ]
  },
  {
   "cell_type": "code",
   "execution_count": 3,
   "id": "4b8497e3-37c4-4bcb-a5e9-ad9bd499064a",
   "metadata": {},
   "outputs": [
    {
     "name": "stdout",
     "output_type": "stream",
     "text": [
      "[1, 2, 3, 4]\n",
      "<class 'list'>\n"
     ]
    }
   ],
   "source": [
    "y = [1,2,3,4]\n",
    "print(y)\n",
    "print(type(y))"
   ]
  },
  {
   "cell_type": "code",
   "execution_count": 6,
   "id": "4330c8a8-8af2-40ec-ac32-6c135f470a2a",
   "metadata": {},
   "outputs": [
    {
     "name": "stdout",
     "output_type": "stream",
     "text": [
      "561 ns ± 5.63 ns per loop (mean ± std. dev. of 7 runs, 1,000,000 loops each)\n"
     ]
    }
   ],
   "source": [
    "%timeit [j**2 for j in range(1,9)]"
   ]
  },
  {
   "cell_type": "code",
   "execution_count": 7,
   "id": "2424afc2-54ab-4905-81be-bbe4ea65cd3a",
   "metadata": {},
   "outputs": [
    {
     "name": "stdout",
     "output_type": "stream",
     "text": [
      "2.79 µs ± 19.9 ns per loop (mean ± std. dev. of 7 runs, 100,000 loops each)\n"
     ]
    }
   ],
   "source": [
    "import numpy as np\n",
    "\n",
    "%timeit np.arange(1,9)**4"
   ]
  },
  {
   "cell_type": "markdown",
   "id": "bd369bf5-f03b-40eb-956a-ff34dd951fa2",
   "metadata": {},
   "source": [
    "#numpy array vs. python lists  "
   ]
  },
  {
   "cell_type": "code",
   "execution_count": 2,
   "id": "be668742-d8f2-48b4-bd4b-52ebe9b8d9d5",
   "metadata": {},
   "outputs": [
    {
     "name": "stdout",
     "output_type": "stream",
     "text": [
      "[1 2 3 4]\n",
      "<class 'numpy.ndarray'>\n",
      "<class 'list'>\n"
     ]
    },
    {
     "data": {
      "text/plain": [
       "array([1, 2, 3, 4])"
      ]
     },
     "execution_count": 2,
     "metadata": {},
     "output_type": "execute_result"
    }
   ],
   "source": [
    "import numpy as np\n",
    "x = [1,2,3,4]\n",
    "y = np.array(x)\n",
    "print(y)\n",
    "print(type(y))\n",
    "print(type(x))\n",
    "y"
   ]
  },
  {
   "cell_type": "markdown",
   "id": "608d76c9-1d37-4fa6-916c-d722cfb96307",
   "metadata": {},
   "source": [
    "# create numpy array"
   ]
  },
  {
   "cell_type": "code",
   "execution_count": 3,
   "id": "809a40ab-9564-41f4-9ba2-1de53530a6c2",
   "metadata": {},
   "outputs": [
    {
     "name": "stdin",
     "output_type": "stream",
     "text": [
      "enter : 12\n",
      "enter : 15\n",
      "enter : 17\n",
      "enter : 18\n"
     ]
    },
    {
     "name": "stdout",
     "output_type": "stream",
     "text": [
      "['12' '15' '17' '18']\n"
     ]
    }
   ],
   "source": [
    "l = []\n",
    "\n",
    "for i in range(1,5):\n",
    "    int_1 = input(\"enter :\")\n",
    "    l.append(int_1)\n",
    "print(np.array(l))"
   ]
  },
  {
   "cell_type": "code",
   "execution_count": 4,
   "id": "266ce0cc-8e3d-4cca-a034-50bc0b2b6f12",
   "metadata": {},
   "outputs": [
    {
     "name": "stdout",
     "output_type": "stream",
     "text": [
      "[1 2 3 4]\n",
      "<class 'numpy.ndarray'>\n",
      "1\n"
     ]
    }
   ],
   "source": [
    "#checking the dimension of the array by using the ndim function\n",
    "import numpy as np\n",
    "a = np.array([1,2,3,4])\n",
    "print(a)\n",
    "print(type(a))\n",
    "print(a.ndim)"
   ]
  },
  {
   "cell_type": "code",
   "execution_count": 6,
   "id": "d58b2932-370d-4046-86cb-01fc11aa2c33",
   "metadata": {},
   "outputs": [
    {
     "name": "stdout",
     "output_type": "stream",
     "text": [
      "[[1 2 3 4]\n",
      " [6 7 8 9]]\n",
      "2\n"
     ]
    }
   ],
   "source": [
    "# two dimensional array\n",
    "\n",
    "ar2 = np.array([[1,2,3,4],[6,7,8,9]])\n",
    "print(ar2)\n",
    "print(ar2.ndim)"
   ]
  },
  {
   "cell_type": "code",
   "execution_count": 7,
   "id": "95e5974f-4ada-44c9-8e8a-9b521ee70017",
   "metadata": {},
   "outputs": [
    {
     "name": "stdout",
     "output_type": "stream",
     "text": [
      "[[[1 2 3]\n",
      "  [4 5 6]\n",
      "  [7 8 9]]]\n",
      "3\n"
     ]
    }
   ],
   "source": [
    "# three dimensional array\n",
    "\n",
    "ar3 = np.array([[[1,2,3],[4,5,6],[7,8,9]]])\n",
    "print(ar3)\n",
    "print(ar3.ndim)"
   ]
  },
  {
   "cell_type": "code",
   "execution_count": 10,
   "id": "6d752d8a-d91c-4b44-b674-a798d70e4f15",
   "metadata": {},
   "outputs": [
    {
     "name": "stdout",
     "output_type": "stream",
     "text": [
      "[[[[[[[[[[1 2 3 4]]]]]]]]]]\n",
      "10\n"
     ]
    }
   ],
   "source": [
    "#multidimensional array\n",
    "arn = np.array([1,2,3,4],ndmin = 10)\n",
    "print(arn)\n",
    "print(arn.ndim)"
   ]
  },
  {
   "cell_type": "markdown",
   "id": "099886d0-4165-4159-a0f0-c20b265f67fa",
   "metadata": {},
   "source": [
    "# create numpy array using numpy function\n"
   ]
  },
  {
   "cell_type": "code",
   "execution_count": 12,
   "id": "6ec0140e-49c3-487a-925c-5baaa080ba38",
   "metadata": {},
   "outputs": [
    {
     "name": "stdout",
     "output_type": "stream",
     "text": [
      "[0. 0. 0. 0.]\n",
      "\n",
      "[[0. 0. 0. 0.]\n",
      " [0. 0. 0. 0.]\n",
      " [0. 0. 0. 0.]]\n"
     ]
    }
   ],
   "source": [
    "#array with zeros\n",
    "\n",
    "import numpy as np\n",
    "ar_zero = np.zeros(4)\n",
    "\n",
    "ar_zero1 = np.zeros((3,4))\n",
    "\n",
    "print(ar_zero)\n",
    "print()\n",
    "print(ar_zero1)"
   ]
  },
  {
   "cell_type": "code",
   "execution_count": 19,
   "id": "0a1f395c-683a-4a8c-9c11-852f1e13cb13",
   "metadata": {},
   "outputs": [
    {
     "name": "stdout",
     "output_type": "stream",
     "text": [
      "[1. 1. 1. 1. 1. 1.]\n"
     ]
    }
   ],
   "source": [
    "# array with empty\n",
    "\n",
    "ar_empty = np.empty(6)\n",
    "\n",
    "\n",
    "print(ar_empty)"
   ]
  },
  {
   "cell_type": "code",
   "execution_count": 15,
   "id": "1ed38aa9-1c79-4d0c-a558-0069a592db5a",
   "metadata": {},
   "outputs": [
    {
     "name": "stdout",
     "output_type": "stream",
     "text": [
      "[1. 1. 1. 1.]\n",
      "\n",
      "[[1. 1.]\n",
      " [1. 1.]\n",
      " [1. 1.]]\n"
     ]
    }
   ],
   "source": [
    "# array with ones\n",
    "\n",
    "ar_one = np.ones(4)\n",
    "ar_one1 = np.ones((3,2))\n",
    "\n",
    "print(ar_one)\n",
    "print()\n",
    "print(ar_one1)\n"
   ]
  },
  {
   "cell_type": "code",
   "execution_count": 26,
   "id": "0d0d0fd3-70b1-450e-9c31-9c495d506774",
   "metadata": {},
   "outputs": [
    {
     "name": "stdout",
     "output_type": "stream",
     "text": [
      "[0 1 2 3 4 5 6]\n",
      "\n",
      "[3]\n"
     ]
    }
   ],
   "source": [
    "# array with the range of the elements\n",
    "\n",
    "ar_rn = np.arange(7)\n",
    "ar_rn1 = np.arange(3,4)\n",
    "print(ar_rn)\n",
    "print()\n",
    "print(ar_rn1)\n"
   ]
  },
  {
   "cell_type": "code",
   "execution_count": 23,
   "id": "1b3d4588-f1e2-4ca2-9237-670a5a993da4",
   "metadata": {},
   "outputs": [
    {
     "name": "stdout",
     "output_type": "stream",
     "text": [
      "[[1. 0. 0. 0. 0.]\n",
      " [0. 1. 0. 0. 0.]\n",
      " [0. 0. 1. 0. 0.]\n",
      " [0. 0. 0. 1. 0.]\n",
      " [0. 0. 0. 0. 1.]]\n",
      "\n",
      "[[1. 0. 0. 0. 0.]\n",
      " [0. 1. 0. 0. 0.]\n",
      " [0. 0. 1. 0. 0.]]\n"
     ]
    }
   ],
   "source": [
    "# array with diagonal elements with one\n",
    "\n",
    "ar_dia = np.eye(5)\n",
    "ar_dia1 = np.eye(3,5)\n",
    "\n",
    "print(ar_dia)\n",
    "print()\n",
    "print(ar_dia1)"
   ]
  },
  {
   "cell_type": "code",
   "execution_count": 29,
   "id": "885caa78-2840-495e-a525-bc889123c717",
   "metadata": {},
   "outputs": [
    {
     "name": "stdout",
     "output_type": "stream",
     "text": [
      "[ 0.  5. 10. 15. 20.]\n"
     ]
    }
   ],
   "source": [
    "#linespace\n",
    "\n",
    "ar_lin = np.linspace(0,20,num=5)\n",
    "print(ar_lin)"
   ]
  },
  {
   "cell_type": "markdown",
   "id": "a21885b7-a638-46db-9106-21110a3b726b",
   "metadata": {},
   "source": [
    "#creating the numpy array with the numpy function\n"
   ]
  },
  {
   "cell_type": "code",
   "execution_count": 2,
   "id": "75a0a6da-3a84-4918-b5c5-19a8473af217",
   "metadata": {},
   "outputs": [
    {
     "name": "stdout",
     "output_type": "stream",
     "text": [
      "[0.49561642 0.83273033 0.10454591 0.47294274 0.89763373]\n",
      "\n",
      "[[0.14407818 0.16538403 0.43936982 0.27306008 0.50899432]\n",
      " [0.5650962  0.93334037 0.23011894 0.18039244 0.3416046 ]]\n"
     ]
    }
   ],
   "source": [
    "#creating the numpy array with the numpy function\n",
    "\n",
    "\n",
    "#rand() fuction is used to generate a random value between 0 and 1\n",
    "\n",
    "import numpy as np\n",
    "var = np.random.rand(5)\n",
    "var1 = np.random.rand(2,5)\n",
    "print(var)\n",
    "print()\n",
    "print(var1)"
   ]
  },
  {
   "cell_type": "code",
   "execution_count": 3,
   "id": "fbd44e31-1fac-4b44-8a5e-09bf9783b3e1",
   "metadata": {},
   "outputs": [
    {
     "name": "stdout",
     "output_type": "stream",
     "text": [
      "[-0.6123025   2.08368902  0.71790605  0.56548789]\n"
     ]
    }
   ],
   "source": [
    "#randn()  function is used to generate a random value of the close to the zero\n",
    "  # it is either +ve or -ve\n",
    "var2 = np.random.randn(4)\n",
    "print(var2)\n"
   ]
  },
  {
   "cell_type": "code",
   "execution_count": 4,
   "id": "1a578f41-3f21-4a00-9e9a-ada97fb414ff",
   "metadata": {},
   "outputs": [
    {
     "name": "stdout",
     "output_type": "stream",
     "text": [
      "[0.8461864  0.92103259 0.97444693 0.07902323]\n"
     ]
    }
   ],
   "source": [
    "#ranf()  the function for doing random sampling in numpy.\n",
    "#it returns an array of specified shape and fills it with random in the half open interval [0.0,1.0)\n",
    "\n",
    "var3 = np.random.ranf(4)\n",
    "print(var3)\n"
   ]
  },
  {
   "cell_type": "code",
   "execution_count": 6,
   "id": "b96b7d18-b6bf-4a09-88d8-7cbe9b3f2e03",
   "metadata": {},
   "outputs": [
    {
     "name": "stdout",
     "output_type": "stream",
     "text": [
      "[13 18 11 13 19]\n"
     ]
    }
   ],
   "source": [
    "#randint() the function is used to generate a random number on agiven range\n",
    "#(min,max,total_values)\n",
    "\n",
    "var4 = np.random.randint(5,20,5)\n",
    "print(var4)"
   ]
  },
  {
   "cell_type": "markdown",
   "id": "f6097cca-17d4-4380-ab26-8e1045a9ffad",
   "metadata": {},
   "source": [
    "# data type of the numpy array\n"
   ]
  },
  {
   "cell_type": "code",
   "execution_count": 10,
   "id": "bfe53f5e-ada2-4900-8cda-eb0f5123dd56",
   "metadata": {},
   "outputs": [
    {
     "name": "stdout",
     "output_type": "stream",
     "text": [
      "[1 2 3 4]\n",
      "Data Type : int32\n"
     ]
    }
   ],
   "source": [
    "# data type of the numpy array\n",
    "\n",
    "a1 = np.array([1,2,3,4])\n",
    "print(a1)\n",
    "print(\"Data Type :\",a1.dtype)\n",
    " "
   ]
  },
  {
   "cell_type": "code",
   "execution_count": 11,
   "id": "1381a67e-3416-4ccf-90f7-3734bf5467ee",
   "metadata": {},
   "outputs": [
    {
     "name": "stdout",
     "output_type": "stream",
     "text": [
      "[1.  2.  1.3]\n",
      "Data Type :  float64\n"
     ]
    }
   ],
   "source": [
    "a2 = np.array([1.0,2.0,1.3])\n",
    "print(a2)\n",
    "print(\"Data Type : \",a2.dtype)"
   ]
  },
  {
   "cell_type": "code",
   "execution_count": 12,
   "id": "7952f2b0-614d-4c43-8c97-48c57b331495",
   "metadata": {},
   "outputs": [
    {
     "name": "stdout",
     "output_type": "stream",
     "text": [
      "['R' 'A' 'V' 'I']\n",
      "Data Type : <U1\n"
     ]
    }
   ],
   "source": [
    "a3 = np.array([\"R\",\"A\",\"V\",\"I\"])\n",
    "print(a3)\n",
    "print(\"Data Type :\",a3.dtype)"
   ]
  },
  {
   "cell_type": "code",
   "execution_count": 13,
   "id": "b4889e1f-d78a-4536-9cfa-590c26523d31",
   "metadata": {},
   "outputs": [
    {
     "name": "stdout",
     "output_type": "stream",
     "text": [
      "['R' 'A' 'V' 'I' '1' '4' '3']\n",
      "Data Type : <U11\n"
     ]
    }
   ],
   "source": [
    "a4 = np.array([\"R\",\"A\",\"V\",\"I\",1,4,3])\n",
    "print(a4)\n",
    "print(\"Data Type :\",a4.dtype)"
   ]
  },
  {
   "cell_type": "code",
   "execution_count": 18,
   "id": "30d5410a-76a7-4698-b92d-ba1bb55278aa",
   "metadata": {},
   "outputs": [
    {
     "name": "stdout",
     "output_type": "stream",
     "text": [
      "[1 2 3 4]\n",
      "Data Type : int32\n",
      "\n",
      "[1 2 3 4]\n",
      "Data Type : int8\n"
     ]
    }
   ],
   "source": [
    "# converting the datatype\n",
    "\n",
    "\n",
    "a5 = np.array([1,2,3,4])\n",
    "a5i = np.array([1,2,3,4],dtype = np.int8 )\n",
    "print(a5)\n",
    "print(\"Data Type :\",a5.dtype)\n",
    "print()\n",
    "print(a5i)\n",
    "print(\"Data Type :\",a5i.dtype)\n"
   ]
  },
  {
   "cell_type": "code",
   "execution_count": 20,
   "id": "46a26591-e037-4ae0-854f-7c028dd62971",
   "metadata": {},
   "outputs": [
    {
     "name": "stdout",
     "output_type": "stream",
     "text": [
      "[1 2 3 4]\n",
      "DataType : int32\n",
      "\n",
      "[1. 2. 3. 4.]\n",
      "Data Type : float32\n"
     ]
    }
   ],
   "source": [
    "a6 = np.array([1,2,3,4])\n",
    "print(a6)\n",
    "print(\"DataType :\",a6.dtype)\n",
    "\n",
    "print()\n",
    "\n",
    "a6i = np.array([1,2,3,4],dtype = \"f\")\n",
    "print(a6i)\n",
    "print(\"Data Type :\",a6i.dtype)"
   ]
  },
  {
   "cell_type": "code",
   "execution_count": 24,
   "id": "bb97799a-c300-4f83-b173-6f427c14c776",
   "metadata": {},
   "outputs": [
    {
     "name": "stdout",
     "output_type": "stream",
     "text": [
      "[1 2 3 4]\n",
      "Data Type : int32\n",
      "\n",
      "[1. 2. 3. 4.]\n",
      "Data Type : float32\n",
      "\n",
      "[1 2 3 4]\n",
      "Data Type : int32\n"
     ]
    }
   ],
   "source": [
    "a7 = np.array([1,2,3,4])\n",
    "print(a7)\n",
    "print(\"Data Type :\",a7.dtype)\n",
    "\n",
    "print()\n",
    "\n",
    "a7i = np.float32(a7)\n",
    "print(a7i)\n",
    "print(\"Data Type :\",a7i.dtype)\n",
    "print()\n",
    "\n",
    "a7ii = np.int_(a7i)\n",
    "print(a7ii)\n",
    "print(\"Data Type :\",a7ii.dtype)\n"
   ]
  },
  {
   "cell_type": "code",
   "execution_count": 25,
   "id": "22bf7e43-4856-4ad9-8784-00ba1d9c2c97",
   "metadata": {},
   "outputs": [
    {
     "name": "stdout",
     "output_type": "stream",
     "text": [
      "[1 2 3 4]\n",
      "Data Type : int32\n",
      "\n",
      "[1. 2. 3. 4.]\n",
      "Data Type : float64\n"
     ]
    }
   ],
   "source": [
    "a8 = np.array([1,2,3,4])\n",
    "print(a8)\n",
    "print(\"Data Type :\",a8.dtype)\n",
    "\n",
    "print()\n",
    "\n",
    "a8i = a8.astype(float)\n",
    "print(a8i)\n",
    "print(\"Data Type :\",a8i.dtype)\n"
   ]
  },
  {
   "cell_type": "markdown",
   "id": "4c672535-841d-4be9-8ce4-c92a8119c805",
   "metadata": {},
   "source": [
    "#LEARN BROADCASTING IN NUMPY ARRAYS.....\n",
    "\n",
    "\n",
    "#dimension calculation in order to perform arthemtic operation"
   ]
  },
  {
   "cell_type": "code",
   "execution_count": 2,
   "id": "7bcdf9d6-cada-454c-b4b4-766e6c5e2bc5",
   "metadata": {},
   "outputs": [
    {
     "name": "stdout",
     "output_type": "stream",
     "text": [
      "[2 4 6 8]\n"
     ]
    }
   ],
   "source": [
    "# wantedly error \n",
    "\n",
    "import numpy as np\n",
    "\n",
    "\n",
    "\n",
    "b1 = np.array([1,2,3,4])\n",
    "b2 = np.array([1,2,3,4])\n",
    "\n",
    "b3 = b1 + b2\n",
    "print(b3)"
   ]
  },
  {
   "cell_type": "code",
   "execution_count": 6,
   "id": "9781e466-ba53-4f3b-8b53-544a31537269",
   "metadata": {},
   "outputs": [
    {
     "name": "stdout",
     "output_type": "stream",
     "text": [
      "[1 2 3 4]\n",
      "\n",
      "(4,)\n",
      "\n",
      "[[1]\n",
      " [2]\n",
      " [3]]\n",
      "\n",
      "(3, 1)\n",
      "\n",
      "[[2 3 4 5]\n",
      " [3 4 5 6]\n",
      " [4 5 6 7]]\n"
     ]
    }
   ],
   "source": [
    "# 1.same Dimension\n",
    "import numpy as np\n",
    "\n",
    "b4 = np.array([1,2,3,4])\n",
    "print(b4)\n",
    "\n",
    "print()\n",
    "\n",
    "print(b4.shape)\n",
    "\n",
    "print()\n",
    "\n",
    "b5 = np.array([[1],[2],[3]])\n",
    "print(b5)\n",
    "\n",
    "print()\n",
    "\n",
    "print(b5.shape)\n",
    "\n",
    "print()\n",
    "\n",
    "print(b4 + b5)"
   ]
  },
  {
   "cell_type": "code",
   "execution_count": 7,
   "id": "85406148-f1a6-4b8b-aaad-f43f3f2d9002",
   "metadata": {},
   "outputs": [
    {
     "name": "stdout",
     "output_type": "stream",
     "text": [
      "[[1]\n",
      " [2]]\n",
      "\n",
      "(2, 1)\n",
      "\n",
      "[[1 2 3]\n",
      " [1 2 3]]\n",
      "\n",
      "(2, 3)\n",
      "[[2 3 4]\n",
      " [3 4 5]]\n"
     ]
    }
   ],
   "source": [
    "b6 = np.array([[1],[2]])\n",
    "print(b6)\n",
    "\n",
    "print()\n",
    "\n",
    "print(b6.shape)\n",
    "\n",
    "print()\n",
    "\n",
    "b7 = np.array([[1,2,3],[1,2,3]])\n",
    "print(b7)\n",
    "\n",
    "print()\n",
    "\n",
    "print(b7.shape)\n",
    "\n",
    "print(b6 + b7)"
   ]
  },
  {
   "cell_type": "markdown",
   "id": "679d1613-d627-4744-9826-ead7ea061af3",
   "metadata": {},
   "source": [
    "#indexing and slicing in numpy array...\n",
    "\n"
   ]
  },
  {
   "cell_type": "code",
   "execution_count": 10,
   "id": "f19c9390-c1e3-448f-89b1-456bb1f0a862",
   "metadata": {},
   "outputs": [
    {
     "name": "stdout",
     "output_type": "stream",
     "text": [
      "[9 8 7 6]\n",
      "\n",
      "8\n",
      "\n",
      "7\n"
     ]
    }
   ],
   "source": [
    "#indexing......\n",
    "#One dimensional array indexing...\n",
    "\n",
    "import numpy as np\n",
    "d = np.array([9,8,7,6])\n",
    "print(d)\n",
    "\n",
    "print()\n",
    "\n",
    "\n",
    "print(d[1])\n",
    "\n",
    "print()\n",
    "\n",
    "print(d[-2])\n"
   ]
  },
  {
   "cell_type": "code",
   "execution_count": 12,
   "id": "bfe70444-6cc2-4f44-a7b9-0f4bf736ee61",
   "metadata": {},
   "outputs": [
    {
     "name": "stdout",
     "output_type": "stream",
     "text": [
      "[[1 2 3 4]\n",
      " [4 5 6 7]]\n",
      "\n",
      "2\n",
      "\n",
      "4\n"
     ]
    }
   ],
   "source": [
    "#Two dimensional array indexing...\n",
    "\n",
    "di = np.array([[1,2,3,4],[4,5,6,7]])\n",
    "print(di)\n",
    "\n",
    "print()\n",
    "\n",
    "print(di.ndim)\n",
    "\n",
    "print()\n",
    "\n",
    "print(di[0,3])\n",
    "\n"
   ]
  },
  {
   "cell_type": "code",
   "execution_count": 16,
   "id": "906473e2-fab5-42dc-aa17-d894ae1dd65b",
   "metadata": {},
   "outputs": [
    {
     "name": "stdout",
     "output_type": "stream",
     "text": [
      "[[[1 2 3]\n",
      "  [4 5 6]\n",
      "  [7 8 9]]]\n",
      "\n",
      "Dimension : 3\n",
      "\n",
      "5\n"
     ]
    }
   ],
   "source": [
    "#Three dimension array indexing...\n",
    "\n",
    "dii = np.array([[[1,2,3],[4,5,6],[7,8,9]]])\n",
    "\n",
    "print(dii)\n",
    "\n",
    "print()\n",
    "\n",
    "print(\"Dimension :\",dii.ndim)\n",
    "\n",
    "print()\n",
    "\n",
    "print(dii[0,1,1])"
   ]
  },
  {
   "cell_type": "code",
   "execution_count": 24,
   "id": "fcc9cf27-df8f-4c47-95fe-31d7b01ab7cd",
   "metadata": {},
   "outputs": [
    {
     "name": "stdout",
     "output_type": "stream",
     "text": [
      "[1 2 3 4 5 6 7 8 9]\n",
      "\n",
      "Slicing - 2 to 5 : [2 3 4]\n",
      "\n",
      "Slicing 2 to end : [2 3 4 5 6 7 8 9]\n",
      "\n",
      "Start to 5       : [1 2 3 4 5 6]\n",
      "\n",
      "Steping          : [1 3 5 7 9]\n"
     ]
    }
   ],
   "source": [
    "#Slicing numpy array...\n",
    "\n",
    "#one dimensoinal array slicing..\n",
    "\n",
    "diii = np.array([1,2,3,4,5,6,7,8,9])\n",
    "print(diii)\n",
    "\n",
    "print()\n",
    "\n",
    "print(\"Slicing - 2 to 5 :\",diii[1:4])\n",
    "\n",
    "print()\n",
    "\n",
    "print(\"Slicing 2 to end :\",diii[1:])\n",
    "\n",
    "print()\n",
    "\n",
    "print(\"Start to 5       :\",diii[:6])\n",
    "\n",
    "print()\n",
    "\n",
    "print(\"Steping          :\",diii[::2])"
   ]
  },
  {
   "cell_type": "code",
   "execution_count": 27,
   "id": "83e28ef8-c739-45a6-9ff1-778ba9e45bff",
   "metadata": {},
   "outputs": [
    {
     "name": "stdout",
     "output_type": "stream",
     "text": [
      "[[ 1  2  3  4]\n",
      " [ 6  7  8  9]\n",
      " [11 12 13 14]]\n",
      "\n",
      "Dimension    : 2\n",
      "\n",
      "Slicing      : [2 3 4]\n",
      "\n",
      "Slicing      : [12 13 14]\n"
     ]
    }
   ],
   "source": [
    "#Two dimensional array slicing...\n",
    "\n",
    "diiii = np.array([[1,2,3,4],[6,7,8,9],[11,12,13,14]])\n",
    "print(diiii)\n",
    "\n",
    "print()\n",
    "\n",
    "print(\"Dimension    :\",diiii.ndim)\n",
    "\n",
    "print()\n",
    "\n",
    "print('Slicing      :',diiii[0,1:])\n",
    "\n",
    "print()\n",
    "\n",
    "print(\"Slicing      :\",diiii[2,1:])\n"
   ]
  },
  {
   "cell_type": "markdown",
   "id": "b0091f55-dcdf-4561-9ac9-b3d847ce24a0",
   "metadata": {},
   "source": [
    "#ITERATING THE NUNMPY ARRAAY...\n",
    "\n"
   ]
  },
  {
   "cell_type": "code",
   "execution_count": 1,
   "id": "73245ade-c361-49b5-83cd-808c50603d4e",
   "metadata": {},
   "outputs": [
    {
     "name": "stdout",
     "output_type": "stream",
     "text": [
      "[1 2 3 4 5 6]\n",
      "\n",
      "1\n",
      "2\n",
      "3\n",
      "4\n",
      "5\n",
      "6\n"
     ]
    }
   ],
   "source": [
    "\n",
    "# One Dimensional array iterating...\n",
    "\n",
    "import numpy as np\n",
    "x = np.array([1,2,3,4,5,6])\n",
    "\n",
    "print(x)\n",
    "\n",
    "print()\n",
    "\n",
    "for i in x:\n",
    "    print(i)\n"
   ]
  },
  {
   "cell_type": "code",
   "execution_count": 3,
   "id": "0be58443-43f1-4044-babf-e5e03e32d7d4",
   "metadata": {},
   "outputs": [
    {
     "name": "stdout",
     "output_type": "stream",
     "text": [
      "[[1 2 3 4]\n",
      " [6 7 8 9]]\n",
      "\n",
      "[1 2 3 4]\n",
      "[6 7 8 9]\n",
      "\n",
      "1\n",
      "2\n",
      "3\n",
      "4\n",
      "6\n",
      "7\n",
      "8\n",
      "9\n"
     ]
    }
   ],
   "source": [
    "# Two Dimensional array iterating...\n",
    "\n",
    "xi = np.array([[1,2,3,4],[6,7,8,9]])\n",
    "print(xi)\n",
    "\n",
    "print()\n",
    "\n",
    "for j in xi:\n",
    "    print(j)\n",
    "\n",
    "print()\n",
    "\n",
    "for k in xi:\n",
    "    for l in k:\n",
    "        print(l)"
   ]
  },
  {
   "cell_type": "code",
   "execution_count": 5,
   "id": "ea911bf3-f949-45a2-8225-5b75adc051ec",
   "metadata": {},
   "outputs": [
    {
     "name": "stdout",
     "output_type": "stream",
     "text": [
      "[[[1 2 3 4]\n",
      "  [6 7 8 9]]]\n",
      "\n",
      "Dimension   : 3\n",
      "\n",
      "1\n",
      "2\n",
      "3\n",
      "4\n",
      "6\n",
      "7\n",
      "8\n",
      "9\n"
     ]
    }
   ],
   "source": [
    "# Three Dimensional array iterating...\n",
    "\n",
    "xii = np.array([[[1,2,3,4],[6,7,8,9]]])\n",
    "\n",
    "print(xii)\n",
    "\n",
    "print()\n",
    "\n",
    "print(\"Dimension   :\",xii.ndim)\n",
    "\n",
    "print()\n",
    "\n",
    "for i in xii:\n",
    "    for j in i:\n",
    "        for k in j:\n",
    "            print(k)"
   ]
  },
  {
   "cell_type": "code",
   "execution_count": 7,
   "id": "8e6a4856-d219-4658-b50d-462cb5260d33",
   "metadata": {},
   "outputs": [
    {
     "name": "stdout",
     "output_type": "stream",
     "text": [
      "[[[1 2 3 4]\n",
      "  [5 6 7 8]]]\n",
      "\n",
      "Dimension  : 3\n",
      "\n",
      "1\n",
      "2\n",
      "3\n",
      "4\n",
      "5\n",
      "6\n",
      "7\n",
      "8\n"
     ]
    }
   ],
   "source": [
    "\n",
    "xiii = np.array([[[1,2,3,4],[5,6,7,8]]])\n",
    "print(xiii)\n",
    "\n",
    "print()\n",
    "\n",
    "print(\"Dimension  :\",xiii.ndim)\n",
    "\n",
    "print()\n",
    "\n",
    "for i in np.nditer(xiii):\n",
    "    print(i)\n"
   ]
  },
  {
   "cell_type": "code",
   "execution_count": 26,
   "id": "e0d2ea69-6ed6-45b5-b812-7af2d6343561",
   "metadata": {},
   "outputs": [
    {
     "name": "stdout",
     "output_type": "stream",
     "text": [
      "[[[9 8 7 6]\n",
      "  [1 2 3 4]]]\n",
      "\n",
      "9\n",
      "8\n",
      "7\n",
      "6\n",
      "1\n",
      "2\n",
      "3\n",
      "4\n",
      "\n",
      "((0, 0, 0), 9)\n",
      "((0, 0, 1), 8)\n",
      "((0, 0, 2), 7)\n",
      "((0, 0, 3), 6)\n",
      "((0, 1, 0), 1)\n",
      "((0, 1, 1), 2)\n",
      "((0, 1, 2), 3)\n",
      "((0, 1, 3), 4)\n",
      "\n",
      "(0, 0, 0) 9\n",
      "(0, 0, 1) 8\n",
      "(0, 0, 2) 7\n",
      "(0, 0, 3) 6\n",
      "(0, 1, 0) 1\n",
      "(0, 1, 1) 2\n",
      "(0, 1, 2) 3\n",
      "(0, 1, 3) 4\n"
     ]
    }
   ],
   "source": [
    "import numpy as np\n",
    "\n",
    "xiiii = np.array([[[9,8,7,6],[1,2,3,4]]])\n",
    "print(xiiii)\n",
    "\n",
    "print() \n",
    "\n",
    "for j in np.nditer(xiiii):\n",
    "    print(j)\n",
    "\n",
    "print()\n",
    "\n",
    "for i in np.ndenumerate(xiiii):\n",
    "    print(i)\n",
    "\n",
    "print()\n",
    "\n",
    "for k,d in np.ndenumerate(xiiii):\n",
    "    print(k,d)\n"
   ]
  },
  {
   "cell_type": "markdown",
   "id": "6971b5bd-fa7b-4131-9dd7-06af7007dcc6",
   "metadata": {},
   "source": [
    "#COPY VS VIEW IN NUMPY PYTHON ARRAY...\n"
   ]
  },
  {
   "cell_type": "code",
   "execution_count": 28,
   "id": "d0599e9c-aae4-471e-bd2f-e3b8fb4b1078",
   "metadata": {},
   "outputs": [
    {
     "name": "stdout",
     "output_type": "stream",
     "text": [
      "[1 2 3 4]\n",
      "\n",
      "COPY  : [1 2 3 4]\n"
     ]
    }
   ],
   "source": [
    "#  copy() function...\n",
    "\n",
    "import numpy as np\n",
    "\n",
    "y = np.array([1,2,3,4])\n",
    "\n",
    "print(y)\n",
    "\n",
    "print()\n",
    "\n",
    "co = y.copy()\n",
    "print(\"COPY  :\",co)"
   ]
  },
  {
   "cell_type": "code",
   "execution_count": 32,
   "id": "e66c7125-c33c-4563-a9aa-4e54b10bf301",
   "metadata": {},
   "outputs": [
    {
     "name": "stdout",
     "output_type": "stream",
     "text": [
      "[1 2 3 4]\n",
      "\n",
      "COPY  : [1 2 3 4]\n",
      "\n",
      "Original : [ 1 55  3  4]\n",
      "\n",
      "COPY      : [1 2 3 4]\n"
     ]
    }
   ],
   "source": [
    "#  copy() function...\n",
    "# changes made in original doesnot effect the copy array...\n",
    "\n",
    "import numpy as np\n",
    "\n",
    "y = np.array([1,2,3,4])\n",
    "\n",
    "print(y)\n",
    "\n",
    "print()\n",
    "\n",
    "co = y.copy()\n",
    "print(\"COPY  :\",co)\n",
    "\n",
    "print()\n",
    "\n",
    "y[1] = 55\n",
    "print(\"Original :\",y)\n",
    "\n",
    "print()\n",
    "\n",
    "print(\"COPY      :\",co)\n",
    "\n"
   ]
  },
  {
   "cell_type": "code",
   "execution_count": 29,
   "id": "e545c163-9cd2-4dff-b825-f54be70c4421",
   "metadata": {},
   "outputs": [
    {
     "name": "stdout",
     "output_type": "stream",
     "text": [
      "[1 2 3 4]\n",
      "\n",
      "VIEW   : [1 2 3 4]\n"
     ]
    }
   ],
   "source": [
    "# view() function...\n",
    "\n",
    "yi = np.array([1,2,3,4])\n",
    "print(yi)\n",
    "\n",
    "print()\n",
    "\n",
    "vi = yi.view()\n",
    "print(\"VIEW   :\",vi)\n"
   ]
  },
  {
   "cell_type": "code",
   "execution_count": 33,
   "id": "9243491e-f292-4721-b5dc-91261cb508bf",
   "metadata": {},
   "outputs": [
    {
     "name": "stdout",
     "output_type": "stream",
     "text": [
      "[1 2 3 4]\n",
      "\n",
      "VIEW   : [1 2 3 4]\n",
      "\n",
      "Original array   :  [ 1 69  3  4]\n",
      "\n",
      "VIEW array       : [ 1 69  3  4]\n"
     ]
    }
   ],
   "source": [
    "# view() function\n",
    "#changes in the original array effects the view array...\n",
    "\n",
    "yi = np.array([1,2,3,4])\n",
    "print(yi)\n",
    "\n",
    "print()\n",
    "\n",
    "vi = yi.view()\n",
    "print(\"VIEW   :\",vi)\n",
    "\n",
    "print()\n",
    "\n",
    "yi[1] = 69\n",
    "\n",
    "print(\"Original array   : \",yi)\n",
    "\n",
    "print()\n",
    "\n",
    "print(\"VIEW array       :\",vi)"
   ]
  },
  {
   "cell_type": "markdown",
   "id": "76374582-9397-4bd6-bb95-faae3f9e3072",
   "metadata": {},
   "source": [
    "# JOINING AND SPLIT NUMPY ARRAY\n"
   ]
  },
  {
   "cell_type": "code",
   "execution_count": 40,
   "id": "7b66a841-007f-4fcb-bb5f-4d04442283fd",
   "metadata": {},
   "outputs": [
    {
     "name": "stdout",
     "output_type": "stream",
     "text": [
      "[1 2 3 4 5]\n",
      "\n",
      "[9 8 7 6]\n",
      "\n",
      "[1 2 3 4 5 9 8 7 6]\n"
     ]
    }
   ],
   "source": [
    "# join array\n",
    "\n",
    "import numpy as np\n",
    "\n",
    "j = np.array([1,2,3,4,5])\n",
    "print(j)\n",
    "\n",
    "print()\n",
    "\n",
    "ji = np.array([9,8,7,6])\n",
    "print(ji)\n",
    "\n",
    "print()\n",
    "\n",
    "jj = np.concatenate((j,ji))\n",
    "print(jj)"
   ]
  },
  {
   "cell_type": "code",
   "execution_count": 46,
   "id": "7a3c4f6b-e50d-4db8-8ddc-9c46b3bcbe51",
   "metadata": {},
   "outputs": [
    {
     "name": "stdout",
     "output_type": "stream",
     "text": [
      "[[1 2 3 4]\n",
      " [5 6 7 8]]\n",
      "\n",
      "Dimension   : 2\n",
      "\n",
      "[[11 12 13 14]\n",
      " [15 16 17 18]]\n",
      "\n",
      "Dimension   : 2\n",
      "\n",
      "[[ 1  2  3  4]\n",
      " [ 5  6  7  8]\n",
      " [11 12 13 14]\n",
      " [15 16 17 18]]\n",
      "\n",
      "2\n",
      "\n",
      "[[ 1  2  3  4 11 12 13 14]\n",
      " [ 5  6  7  8 15 16 17 18]]\n",
      "\n",
      "2\n"
     ]
    }
   ],
   "source": [
    "# joining the two dimensional array\n",
    "\n",
    "jii = np.array([[1,2,3,4],[5,6,7,8]])\n",
    "print(jii)\n",
    "\n",
    "print()\n",
    "\n",
    "print(\"Dimension   :\",jii.ndim)\n",
    "\n",
    "print()\n",
    "\n",
    "jiii = np.array([[11,12,13,14],[15,16,17,18]])\n",
    "print(jiii)\n",
    "\n",
    "print()\n",
    "\n",
    "print(\"Dimension   :\",jiii.ndim)\n",
    "\n",
    "print()\n",
    "\n",
    "jr = np.concatenate((jii,jiii),axis=0)\n",
    "print(jr)\n",
    "\n",
    "print()\n",
    "\n",
    "print(jr.ndim)\n",
    "\n",
    "print()\n",
    "\n",
    "jri = np.concatenate((jii,jiii),axis=1)\n",
    "print(jri)\n",
    "\n",
    "print()\n",
    "\n",
    "print(jri.ndim)"
   ]
  },
  {
   "cell_type": "code",
   "execution_count": 53,
   "id": "09f592f1-227e-4cf9-9a7e-a756fd485411",
   "metadata": {},
   "outputs": [
    {
     "name": "stdout",
     "output_type": "stream",
     "text": [
      "[[1 2 3 4]\n",
      " [6 7 8 9]]\n",
      "\n",
      "[[11 12 13 14]\n",
      " [16 17 18 19]]\n",
      "\n",
      "[[[ 1  2  3  4]\n",
      "  [ 6  7  8  9]]\n",
      "\n",
      " [[11 12 13 14]\n",
      "  [16 17 18 19]]]\n"
     ]
    }
   ],
   "source": [
    "#stack()\n",
    "\n",
    "s = np.array([[1,2,3,4],[6,7,8,9]])\n",
    "print(s)\n",
    "\n",
    "print()\n",
    "\n",
    "si = np.array([[11,12,13,14],[16,17,18,19]])\n",
    "print(si)\n",
    "\n",
    "print()\n",
    "\n",
    "ss = np.stack((s,si),axis=0)\n",
    "print(ss)"
   ]
  },
  {
   "cell_type": "code",
   "execution_count": 54,
   "id": "541d2403-2a52-4df7-bb15-31b78def5bf0",
   "metadata": {},
   "outputs": [
    {
     "name": "stdout",
     "output_type": "stream",
     "text": [
      "[[1 2 3 4]\n",
      " [6 7 8 9]]\n",
      "\n",
      "[[11 12 13 14]\n",
      " [16 17 18 19]]\n",
      "\n",
      "[[[ 1  2  3  4]\n",
      "  [11 12 13 14]]\n",
      "\n",
      " [[ 6  7  8  9]\n",
      "  [16 17 18 19]]]\n"
     ]
    }
   ],
   "source": [
    "#stack()\n",
    "\n",
    "s = np.array([[1,2,3,4],[6,7,8,9]])\n",
    "print(s)\n",
    "\n",
    "print()\n",
    "\n",
    "si = np.array([[11,12,13,14],[16,17,18,19]])\n",
    "print(si)\n",
    "\n",
    "print()\n",
    "\n",
    "ss = np.stack((s,si),axis=1)\n",
    "print(ss)"
   ]
  },
  {
   "cell_type": "code",
   "execution_count": 57,
   "id": "b39c10c6-8c58-45f7-a9b1-af600831cf46",
   "metadata": {},
   "outputs": [
    {
     "name": "stdout",
     "output_type": "stream",
     "text": [
      "[[1 2 3 4]\n",
      " [6 7 8 9]]\n",
      "\n",
      "[[11 12 13 14]\n",
      " [16 17 18 19]]\n",
      "\n",
      "[[[ 1 11]\n",
      "  [ 2 12]\n",
      "  [ 3 13]\n",
      "  [ 4 14]]\n",
      "\n",
      " [[ 6 16]\n",
      "  [ 7 17]\n",
      "  [ 8 18]\n",
      "  [ 9 19]]]\n",
      "\n",
      "[[ 1  2  3  4 11 12 13 14]\n",
      " [ 6  7  8  9 16 17 18 19]]\n",
      "\n",
      "[[ 1  2  3  4]\n",
      " [ 6  7  8  9]\n",
      " [11 12 13 14]\n",
      " [16 17 18 19]]\n"
     ]
    }
   ],
   "source": [
    "#stack()\n",
    "\n",
    "s = np.array([[1,2,3,4],[6,7,8,9]])\n",
    "print(s)\n",
    "\n",
    "print()\n",
    "\n",
    "si = np.array([[11,12,13,14],[16,17,18,19]])\n",
    "print(si)\n",
    "\n",
    "print()\n",
    "\n",
    "ss = np.dstack((s,si))#height\n",
    "print(ss)\n",
    "\n",
    "print()\n",
    "\n",
    "ssi = np.hstack((s,si))#row\n",
    "print(ssi)\n",
    "\n",
    "print()\n",
    "\n",
    "\n",
    "ssii = np.vstack((s,si))#coloumn\n",
    "print(ssii)"
   ]
  },
  {
   "cell_type": "code",
   "execution_count": 61,
   "id": "342ccc71-43e1-4f13-817c-4e0d01749218",
   "metadata": {},
   "outputs": [
    {
     "name": "stdout",
     "output_type": "stream",
     "text": [
      "[1 2 3 4 5 6 7 8 9]\n",
      "\n",
      "[array([1, 2, 3]), array([4, 5, 6]), array([7, 8, 9])]\n",
      "<class 'list'>\n",
      "\n",
      "[4 5 6]\n"
     ]
    }
   ],
   "source": [
    "#split array...\n",
    "\n",
    "import numpy as np\n",
    "\n",
    "z = np.array([1,2,3,4,5,6,7,8,9])\n",
    "print(z)\n",
    "\n",
    "print()\n",
    "\n",
    "zr = np.array_split(z,3)\n",
    "print(zr)\n",
    "print(type(zr))\n",
    "\n",
    "print()\n",
    "\n",
    "print(zr[1])\n"
   ]
  },
  {
   "cell_type": "code",
   "execution_count": 67,
   "id": "1664c151-ebfe-48c8-8d5d-b1c7a947988d",
   "metadata": {},
   "outputs": [
    {
     "name": "stdout",
     "output_type": "stream",
     "text": [
      "[[1 2 3 4]\n",
      " [6 7 8 9]]\n",
      "\n",
      "[array([[1, 2, 3, 4]]), array([[6, 7, 8, 9]]), array([], shape=(0, 4), dtype=int32)]\n",
      "\n",
      "[array([[1, 2],\n",
      "       [6, 7]]), array([[3],\n",
      "       [8]]), array([[4],\n",
      "       [9]])]\n",
      "\n",
      "[array([[1, 2, 3, 4]]), array([[6, 7, 8, 9]]), array([], shape=(0, 4), dtype=int32)]\n"
     ]
    }
   ],
   "source": [
    "zi = np.array([[1,2,3,4],[6,7,8,9]])\n",
    "\n",
    "print(zi)\n",
    "\n",
    "print()\n",
    "\n",
    "zir = np.array_split(zi,3)\n",
    "print(zir)\n",
    "\n",
    "print()\n",
    "\n",
    "ziri = np.array_split(zi,3,axis=1)\n",
    "print(ziri)\n",
    "\n",
    "print()\n",
    "\n",
    "zirii = np.array_split(zi,3,axis=0)\n",
    "print(zirii)\n"
   ]
  },
  {
   "cell_type": "markdown",
   "id": "143e866a-0576-4905-99b8-faa02b9a683e",
   "metadata": {},
   "source": [
    "\n",
    "# NUMPY ARRAY FUNCTION()...\n"
   ]
  },
  {
   "cell_type": "code",
   "execution_count": 7,
   "id": "3c4945d2-df29-4e6c-b528-88e611da0db5",
   "metadata": {},
   "outputs": [
    {
     "name": "stdout",
     "output_type": "stream",
     "text": [
      "[1 2 3 4 5 6 5 4 3 8]\n",
      "\n",
      "Dimension    : 1\n",
      "\n",
      "(array([1], dtype=int64),)\n",
      "\n",
      "(array([3, 7], dtype=int64),)\n",
      "\n",
      "(array([1, 3, 5, 7, 9], dtype=int64),)\n"
     ]
    }
   ],
   "source": [
    "# Search array : Search an array for a cerrtain value,and return the indexes that get a match\n",
    "\n",
    "import numpy as np\n",
    "var = np.array([1,2,3,4,5,6,5,4,3,8])\n",
    "print(var)\n",
    "\n",
    "print()\n",
    "\n",
    "print(\"Dimension    :\",var.ndim)\n",
    "\n",
    "print()\n",
    "\n",
    "x = np.where(var == 2)\n",
    "print(x)\n",
    "\n",
    "print()\n",
    "\n",
    "xi = np.where(var == 4)\n",
    "print(xi)\n",
    "\n",
    "print()\n",
    "\n",
    "xii = np.where((var%2) == 0)\n",
    "print(xii)"
   ]
  },
  {
   "cell_type": "code",
   "execution_count": 2,
   "id": "3792be95-f711-423c-85b5-5ca8719ea53e",
   "metadata": {},
   "outputs": [
    {
     "name": "stdout",
     "output_type": "stream",
     "text": [
      "[1 2 3 4 5 8]\n",
      "\n",
      "5\n",
      "\n",
      "[5 5]\n"
     ]
    }
   ],
   "source": [
    "\n",
    "\n",
    "# Search Sorted Array : which performs a binary search in the array , and returns the index\n",
    "#                      where the thenspecified value would be inserted to maintain the\n",
    "#                       the search order...\n",
    "\n",
    "import numpy as np\n",
    "\n",
    "var1 = np.array([1,2,3,4,5,8])\n",
    "print(var1)\n",
    "\n",
    "print()\n",
    "\n",
    "v = np.searchsorted(var1,6)\n",
    "print(v)\n",
    "\n",
    "print()\n",
    "\n",
    "vi = np.searchsorted(var1,[6,7])\n",
    "print(vi)"
   ]
  },
  {
   "cell_type": "code",
   "execution_count": 5,
   "id": "0dd3bf65-88ad-4bff-8b1b-d4e134509444",
   "metadata": {},
   "outputs": [
    {
     "name": "stdout",
     "output_type": "stream",
     "text": [
      "[1 2 3 4 5 4 3 2 4 5 3 4]\n",
      "\n",
      "[1 2 2 3 3 3 4 4 4 4 5 5]\n",
      "\n",
      "['a' 's' 'i' 'o' 'u']\n",
      "\n",
      "['a' 'i' 'o' 's' 'u']\n"
     ]
    }
   ],
   "source": [
    "# Sort array  : Ordered sequence is any sequence that has an order corresponding to\n",
    "#               elements ,like numeric or alphabetical,ascending or descending\n",
    "\n",
    "import numpy as np\n",
    "var = np.array([1,2,3,4,5,4,3,2,4,5,3,4])\n",
    "print(var)\n",
    "\n",
    "print()\n",
    "\n",
    "print(np.sort(var))\n",
    "\n",
    "print()\n",
    "\n",
    "var_1 = np.array([\"a\",\"s\",\"i\",\"o\",\"u\"])\n",
    "print(var_1)\n",
    "\n",
    "print()\n",
    "\n",
    "print(np.sort(var_1))"
   ]
  },
  {
   "cell_type": "code",
   "execution_count": 6,
   "id": "eaeeef0c-3be0-4ea4-a6fe-d4ae98d9521f",
   "metadata": {},
   "outputs": [
    {
     "name": "stdout",
     "output_type": "stream",
     "text": [
      "[[3 2 1]\n",
      " [9 8 7]\n",
      " [6 7 5]]\n",
      "\n",
      "[[1 2 3]\n",
      " [7 8 9]\n",
      " [5 6 7]]\n"
     ]
    }
   ],
   "source": [
    "# Two dimensinal array sorting..\n",
    "var_2 = np.array([[3,2,1],[9,8,7],[6,7,5]])\n",
    "print(var_2)\n",
    "\n",
    "print()\n",
    "\n",
    "print(np.sort(var_2))"
   ]
  },
  {
   "cell_type": "code",
   "execution_count": 8,
   "id": "31d799d3-7a7c-4f96-acc6-c8e1a55ac95e",
   "metadata": {},
   "outputs": [
    {
     "name": "stdout",
     "output_type": "stream",
     "text": [
      "[1 2 3 4 5 4]\n",
      "\n",
      "[True, False, True, False, True, False]\n",
      "\n",
      "[1 3 5]\n",
      "\n",
      "<class 'numpy.ndarray'>\n"
     ]
    }
   ],
   "source": [
    "# Filter array  : Getting some elements out of an existing array and\n",
    "#                 creating a new array out of them...\n",
    "\n",
    "f = np.array([1,2,3,4,5,4])\n",
    "print(f)\n",
    "\n",
    "print()\n",
    "\n",
    "fi = [True,False,True,False,True,False]\n",
    "print(fi)\n",
    "\n",
    "print()\n",
    "\n",
    "new_f = f[fi]\n",
    "print(new_f)\n",
    "\n",
    "print()\n",
    "\n",
    "print(type(new_f))"
   ]
  },
  {
   "cell_type": "markdown",
   "id": "327ad276-153f-4532-a651-20d4ae3887df",
   "metadata": {},
   "source": [
    "\n",
    "\n",
    "# NUMPY ARRAY FUNCTIONS (PART- B)\n"
   ]
  },
  {
   "cell_type": "code",
   "execution_count": 9,
   "id": "fdfb6882-4e56-4d18-a239-0aca5ebd9fda",
   "metadata": {},
   "outputs": [
    {
     "name": "stdout",
     "output_type": "stream",
     "text": [
      "[1 2 3 4 5]\n",
      "\n",
      "[1 4 2 5 3]\n"
     ]
    }
   ],
   "source": [
    "\n",
    "#np.random.shuffle()\n",
    "\n",
    "import numpy as np\n",
    "\n",
    "var = np.array([1,2,3,4,5])\n",
    "print(var)\n",
    "\n",
    "print()\n",
    "\n",
    "np.random.shuffle(var)\n",
    "print(var)"
   ]
  },
  {
   "cell_type": "code",
   "execution_count": 13,
   "id": "4304ddc3-8148-4667-9896-a3b2b50265fd",
   "metadata": {},
   "outputs": [
    {
     "name": "stdout",
     "output_type": "stream",
     "text": [
      "[1 2 3 4 5 6 5 4 3 2]\n",
      "\n",
      "[1 2 3 4 5 6]\n",
      "\n",
      "(array([1, 2, 3, 4, 5, 6]), array([0, 1, 2, 3, 4, 5], dtype=int64))\n",
      "\n",
      "(array([1, 2, 3, 4, 5, 6]), array([0, 1, 2, 3, 4, 5], dtype=int64), array([1, 2, 2, 2, 2, 1], dtype=int64))\n"
     ]
    }
   ],
   "source": [
    "#np.unique()\n",
    "\n",
    "var1 = np.array([1,2,3,4,5,6,5,4,3,2])\n",
    "print(var1)\n",
    "\n",
    "print()\n",
    "\n",
    "var1_x = np.unique(var1)\n",
    "print(var1_x)\n",
    "\n",
    "print()\n",
    "\n",
    "var1_xi = np.unique(var1,return_index=True)\n",
    "print(var1_xi)\n",
    "\n",
    "\n",
    "print()\n",
    "\n",
    "var1_xii = np.unique(var1,return_index=True,return_counts=True)\n",
    "print(var1_xii)"
   ]
  },
  {
   "cell_type": "code",
   "execution_count": 15,
   "id": "8c7eac3d-0c60-45c8-b7ef-5b53ae14b789",
   "metadata": {},
   "outputs": [
    {
     "name": "stdout",
     "output_type": "stream",
     "text": [
      "[1 2 3 4 5]\n",
      "\n",
      "[[1 2 3]\n",
      " [4 5 1]]\n",
      "\n",
      "[[1 2]\n",
      " [3 4]\n",
      " [5 1]]\n"
     ]
    }
   ],
   "source": [
    "#np.resize(var(2,3))\n",
    "# converts the one dimensional array to two dimensional array\n",
    "\n",
    "var = np.array([1,2,3,4,5])\n",
    "print(var)\n",
    "\n",
    "print()\n",
    "\n",
    "y = np.resize(var,(2,3))\n",
    "print(y)\n",
    "\n",
    "\n",
    "print()\n",
    "\n",
    "yi = np.resize(var,(3,2))\n",
    "print(yi)"
   ]
  },
  {
   "cell_type": "code",
   "execution_count": 21,
   "id": "8a74bed1-c1fb-4632-919d-845d66a11923",
   "metadata": {},
   "outputs": [
    {
     "name": "stdout",
     "output_type": "stream",
     "text": [
      "[1 2 3 4 5]\n",
      "\n",
      "[[1 2 3]\n",
      " [4 5 1]]\n",
      "\n",
      "Flatten  : [1 2 3 4 5]\n",
      "\n",
      "Flatten   : [1 4 2 5 3 1]\n",
      "\n"
     ]
    }
   ],
   "source": [
    "\n",
    "#flatten is used to arange the order\n",
    "\n",
    "var = np.array([1,2,3,4,5])\n",
    "print(var)\n",
    "\n",
    "print()\n",
    "\n",
    "y = np.resize(var,(2,3))\n",
    "print(y)\n",
    "\n",
    "\n",
    "print()\n",
    "\n",
    "print(\"Flatten  :\",var.flatten(order=\"F\"))\n",
    "\n",
    "print()\n",
    "\n",
    "print(\"Flatten   :\",y.flatten(order=\"F\"))\n",
    "\n",
    "print()"
   ]
  },
  {
   "cell_type": "code",
   "execution_count": 23,
   "id": "98e51db5-91c1-4ebf-9d2d-dec1c2962b65",
   "metadata": {},
   "outputs": [
    {
     "name": "stdout",
     "output_type": "stream",
     "text": [
      "[1 2 3 4 5]\n",
      "\n",
      "[[1 2 3]\n",
      " [4 5 1]]\n",
      "\n",
      "Ravel   : [1 2 3 4 5]\n",
      "\n",
      "Ravel    : [1 2 3 4 5]\n",
      "\n"
     ]
    }
   ],
   "source": [
    "\n",
    "#Ravel is used for the arranging the order\n",
    "\n",
    "var = np.array([1,2,3,4,5])\n",
    "print(var)\n",
    "\n",
    "print()\n",
    "\n",
    "y = np.resize(var,(2,3))\n",
    "print(y)\n",
    "\n",
    "\n",
    "print()\n",
    "\n",
    "print(\"Ravel   :\",var.ravel(order=\"F\"))\n",
    "\n",
    "print()\n",
    "\n",
    "print(\"Ravel    :\",var.ravel(order=\"C\"))\n",
    "\n",
    "print()"
   ]
  }
 ],
 "metadata": {
  "kernelspec": {
   "display_name": "Python 3 (ipykernel)",
   "language": "python",
   "name": "python3"
  },
  "language_info": {
   "codemirror_mode": {
    "name": "ipython",
    "version": 3
   },
   "file_extension": ".py",
   "mimetype": "text/x-python",
   "name": "python",
   "nbconvert_exporter": "python",
   "pygments_lexer": "ipython3",
   "version": "3.12.1"
  }
 },
 "nbformat": 4,
 "nbformat_minor": 5
}
