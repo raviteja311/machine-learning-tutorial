{
 "cells": [
  {
   "cell_type": "markdown",
   "id": "cf5e6d56-23ef-425c-8593-376e405cb0a4",
   "metadata": {},
   "source": [
    "NUMPY\n",
    "\n",
    "NumPy (Numerical Python) is a powerful Python library used for working with arrays and numerical computations\n",
    "\n",
    "Arrays:   NumPy provides an array object called ndarray. Unlike Python lists, NumPy arrays             are stored in a continuous memory location, making them faster and more efficient            for numerical operations.\n",
    "\n",
    "numpy is a general purpose array-processing package. It provides a high-performance multidimensional array object, and tools for working with these arrays . It is the fundamental package for scientific computing with python\n",
    "\n",
    "\n",
    "What is an array?\n",
    "An array is a data structure that stores values of same data type.In Python ,this is the main difference between arrrays and lists. While Python lists can contain values corresponding to different data types , arrays in python can only contain values corresponding to same data type"
   ]
  },
  {
   "cell_type": "code",
   "execution_count": 3,
   "id": "8524bd85-6895-4e15-9aac-1914ab6f03f6",
   "metadata": {},
   "outputs": [
    {
     "name": "stdout",
     "output_type": "stream",
     "text": [
      "[1 2 3 4 5]\n",
      "<class 'numpy.ndarray'>\n"
     ]
    }
   ],
   "source": [
    "## initially lets import numpy\n",
    "\n",
    "import numpy as np\n",
    "my_lst = [1,2,3,4,5]\n",
    "arr = np.array(my_lst)\n",
    "print(arr)\n",
    "print(type(arr))"
   ]
  },
  {
   "cell_type": "code",
   "execution_count": 4,
   "id": "5e5af8e1-1aab-4b83-895f-59167380f100",
   "metadata": {},
   "outputs": [
    {
     "name": "stdout",
     "output_type": "stream",
     "text": [
      "(5,)\n"
     ]
    }
   ],
   "source": [
    "'''\n",
    "shape() function is specify the how many no. of rows and how many no. of columns present in the given array\n",
    "\n",
    "'''\n",
    "print(arr.shape)"
   ]
  },
  {
   "cell_type": "code",
   "execution_count": 11,
   "id": "0b0abb40-1405-4a19-bc21-154e15c3a05f",
   "metadata": {},
   "outputs": [
    {
     "name": "stdout",
     "output_type": "stream",
     "text": [
      "[[1 2 3 4 5]\n",
      " [2 3 4 5 6]\n",
      " [9 8 7 6 5]]\n",
      "\n",
      "(3, 5)\n"
     ]
    }
   ],
   "source": [
    "## multidimension array\n",
    "my_lst1 = [1,2,3,4,5]\n",
    "my_lst2 = [2,3,4,5,6]\n",
    "my_lst3 = [9,8,7,6,5]\n",
    "\n",
    "arr1 = np.array([my_lst1,my_lst2,my_lst3])\n",
    "\n",
    "print(arr1)\n",
    "\n",
    "print()\n",
    "\n",
    "print(arr1.shape)"
   ]
  },
  {
   "cell_type": "code",
   "execution_count": 16,
   "id": "6430515d-caaf-4d0e-9c7e-75ee7c39f7f6",
   "metadata": {},
   "outputs": [
    {
     "name": "stdout",
     "output_type": "stream",
     "text": [
      "[[1 2 3]\n",
      " [4 5 2]\n",
      " [3 4 5]\n",
      " [6 9 8]\n",
      " [7 6 5]]\n",
      "\n",
      "(3, 5)\n",
      "\n",
      "[[1 2 3 4 5 2 3 4 5 6 9 8 7 6 5]]\n"
     ]
    }
   ],
   "source": [
    "'''\n",
    "reshape() function is used to change the dimension of the arrray\n",
    "return an array with same elements but different shape\n",
    "'''\n",
    "print(arr1.reshape(5,3))\n",
    "\n",
    "print()\n",
    "\n",
    "print(arr1.shape)\n",
    "\n",
    "print()\n",
    "\n",
    "print(arr1.reshape(1,15))"
   ]
  },
  {
   "cell_type": "markdown",
   "id": "88fb2092-553b-429f-8559-8a44ea05d497",
   "metadata": {},
   "source": [
    "INDEXING"
   ]
  },
  {
   "cell_type": "code",
   "execution_count": 18,
   "id": "9f93a4ae-3fda-4904-85cb-b5670b8c9c3d",
   "metadata": {},
   "outputs": [
    {
     "name": "stdout",
     "output_type": "stream",
     "text": [
      "[1 2 3 4 5 6 7 8 9]\n",
      "\n",
      "4\n"
     ]
    }
   ],
   "source": [
    "arr2 = np.array([1,2,3,4,5,6,7,8,9])\n",
    "print(arr2)\n",
    "\n",
    "print()\n",
    "\n",
    "print(arr2[3])"
   ]
  },
  {
   "cell_type": "code",
   "execution_count": 21,
   "id": "6dd8cb33-cf56-42dc-aa98-9e94565fce02",
   "metadata": {},
   "outputs": [
    {
     "name": "stdout",
     "output_type": "stream",
     "text": [
      "[[1 2 3 4 5]\n",
      " [2 3 4 5 6]\n",
      " [9 8 7 6 5]]\n",
      "\n",
      "[[1 2]\n",
      " [2 3]]\n",
      "\n",
      "[[5 6]\n",
      " [6 5]]\n"
     ]
    }
   ],
   "source": [
    "## multidimension array\n",
    "my_lst1 = [1,2,3,4,5]\n",
    "my_lst2 = [2,3,4,5,6]\n",
    "my_lst3 = [9,8,7,6,5]\n",
    "\n",
    "arr1 = np.array([my_lst1,my_lst2,my_lst3])\n",
    "print(arr1)\n",
    "\n",
    "print()\n",
    "\n",
    "print(arr1[0:2,0:2])\n",
    "\n",
    "print()\n",
    "\n",
    "print(arr1[1:,3:])"
   ]
  },
  {
   "cell_type": "code",
   "execution_count": 23,
   "id": "11606701-fd30-4815-a5d5-98ca062c3b74",
   "metadata": {},
   "outputs": [
    {
     "name": "stdout",
     "output_type": "stream",
     "text": [
      "[0 2 4 6 8]\n"
     ]
    }
   ],
   "source": [
    "'''\n",
    "arange() function is used to return evenly spaced values within a given interval\n",
    "'''\n",
    "arr3 = np.arange(0,10,2)\n",
    "#                (start,stop,step)\n",
    "print(arr3)"
   ]
  },
  {
   "cell_type": "code",
   "execution_count": 24,
   "id": "6e7b06a4-4de4-4dc3-a459-53b310fb06f0",
   "metadata": {},
   "outputs": [
    {
     "name": "stdout",
     "output_type": "stream",
     "text": [
      "[ 1.          1.18367347  1.36734694  1.55102041  1.73469388  1.91836735\n",
      "  2.10204082  2.28571429  2.46938776  2.65306122  2.83673469  3.02040816\n",
      "  3.20408163  3.3877551   3.57142857  3.75510204  3.93877551  4.12244898\n",
      "  4.30612245  4.48979592  4.67346939  4.85714286  5.04081633  5.2244898\n",
      "  5.40816327  5.59183673  5.7755102   5.95918367  6.14285714  6.32653061\n",
      "  6.51020408  6.69387755  6.87755102  7.06122449  7.24489796  7.42857143\n",
      "  7.6122449   7.79591837  7.97959184  8.16326531  8.34693878  8.53061224\n",
      "  8.71428571  8.89795918  9.08163265  9.26530612  9.44897959  9.63265306\n",
      "  9.81632653 10.        ]\n"
     ]
    }
   ],
   "source": [
    "'''\n",
    "linspace() function is used to divide the equal space between two no.\n",
    "'''\n",
    "arr4 = np.linspace(1,10,50)\n",
    "print(arr4)"
   ]
  },
  {
   "cell_type": "code",
   "execution_count": 27,
   "id": "2a097924-4e8a-4ec0-b2ee-0757797151cb",
   "metadata": {},
   "outputs": [
    {
     "name": "stdout",
     "output_type": "stream",
     "text": [
      "[1 2 3 4 5 6 7 8 9]\n",
      "\n",
      "[  1   2   3 100 100 100 100 100 100]\n"
     ]
    }
   ],
   "source": [
    "'''\n",
    "broadcasting()\n",
    "'''\n",
    "\n",
    "arr5 = np.array([1,2,3,4,5,6,7,8,9])\n",
    "print(arr5)\n",
    "\n",
    "print()\n",
    "\n",
    "arr5[3:]=100\n",
    "print(arr5)\n",
    "\n"
   ]
  },
  {
   "cell_type": "code",
   "execution_count": 32,
   "id": "c4f05085-89ff-4799-ae39-8863a229e93f",
   "metadata": {},
   "outputs": [
    {
     "name": "stdout",
     "output_type": "stream",
     "text": [
      "[1 2 3 4 5 6 7 8 9]\n",
      "\n",
      "[ 2  4  6  8 10 12 14 16 18]\n",
      "\n",
      "[0.5 1.  1.5 2.  2.5 3.  3.5 4.  4.5]\n",
      "\n",
      "[ True  True  True False False False False False False]\n",
      "\n",
      "[1 2 3 4]\n"
     ]
    }
   ],
   "source": [
    "# some conditions were used to data analysis\n",
    "arr6 = np.array([1,2,3,4,5,6,7,8,9])\n",
    "print(arr6)\n",
    "\n",
    "print()\n",
    "\n",
    "print(arr6*2)\n",
    "\n",
    "print()\n",
    "\n",
    "print(arr6/2)\n",
    "\n",
    "print()\n",
    "\n",
    "val = 4\n",
    "print(arr6<4)\n",
    "\n",
    "print()\n",
    "\n",
    "print(arr6[arr6<5])"
   ]
  },
  {
   "cell_type": "code",
   "execution_count": 42,
   "id": "d23bcd02-edcc-479a-a66c-cdd991c74e4f",
   "metadata": {},
   "outputs": [
    {
     "name": "stdout",
     "output_type": "stream",
     "text": [
      "[[0 1]\n",
      " [2 3]\n",
      " [4 5]\n",
      " [6 7]\n",
      " [8 9]]\n",
      "\n",
      "[[0 1 2 3 4]\n",
      " [5 6 7 8 9]]\n"
     ]
    }
   ],
   "source": [
    "'''\n",
    "Create arrays and reshape\n",
    "\n",
    "'''\n",
    "arr8 = np.arange(0,10).reshape(5,2)\n",
    "print(arr8)\n",
    "\n",
    "print()\n",
    "\n",
    "arr7 = np.arange(0,10).reshape(2,5)\n",
    "print(arr7)\n"
   ]
  },
  {
   "cell_type": "code",
   "execution_count": 44,
   "id": "b144e19b-0e23-4930-aad9-dac3c188fba3",
   "metadata": {},
   "outputs": [
    {
     "name": "stdout",
     "output_type": "stream",
     "text": [
      "[1. 1. 1. 1. 1. 1.]\n",
      "\n",
      "[[1 1 1 1 1]\n",
      " [1 1 1 1 1]]\n"
     ]
    }
   ],
   "source": [
    "arr9 = np.ones(6)\n",
    "print(arr9)\n",
    "\n",
    "print()\n",
    "\n",
    "arr_1 = np.ones((2,5),dtype=int)\n",
    "print(arr_1)"
   ]
  },
  {
   "cell_type": "code",
   "execution_count": 45,
   "id": "819f10ab-6197-41ef-82b3-4457d6f1be63",
   "metadata": {},
   "outputs": [
    {
     "name": "stdout",
     "output_type": "stream",
     "text": [
      "[[0.15600605 0.81875126 0.20274265]\n",
      " [0.4739375  0.71479049 0.10518433]\n",
      " [0.94319441 0.96467543 0.60026188]]\n"
     ]
    }
   ],
   "source": [
    "arr_2 = np.random.rand(3,3)\n",
    "print(arr_2)"
   ]
  },
  {
   "cell_type": "code",
   "execution_count": 46,
   "id": "4b0eaa01-b212-4050-a62e-cf73c8fcc70e",
   "metadata": {},
   "outputs": [
    {
     "name": "stdout",
     "output_type": "stream",
     "text": [
      "[[ 0.04951241  0.49607978  0.33338479  0.80969369]\n",
      " [ 1.31702554  0.30527959  1.93092942 -2.13345328]\n",
      " [ 0.16792886 -0.16426916  1.46758371 -0.02204059]\n",
      " [-0.91415034 -0.70030602  0.20117614  0.24416314]]\n"
     ]
    }
   ],
   "source": [
    "arr_3 = np.random.randn(4,4)\n",
    "print(arr_3)"
   ]
  },
  {
   "cell_type": "code",
   "execution_count": null,
   "id": "a88fca4f-76b1-4bc8-9fac-f0490de8a846",
   "metadata": {},
   "outputs": [],
   "source": []
  }
 ],
 "metadata": {
  "kernelspec": {
   "display_name": "Python 3 (ipykernel)",
   "language": "python",
   "name": "python3"
  },
  "language_info": {
   "codemirror_mode": {
    "name": "ipython",
    "version": 3
   },
   "file_extension": ".py",
   "mimetype": "text/x-python",
   "name": "python",
   "nbconvert_exporter": "python",
   "pygments_lexer": "ipython3",
   "version": "3.12.1"
  }
 },
 "nbformat": 4,
 "nbformat_minor": 5
}
