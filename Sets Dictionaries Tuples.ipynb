{
 "cells": [
  {
   "cell_type": "code",
   "execution_count": null,
   "id": "7f94da23-1aba-443f-8137-de854c5b9709",
   "metadata": {},
   "outputs": [],
   "source": [
    "'''\n",
    "SETS\n",
    "\n",
    "A set is a unordered coolection data type that is iterable,mutable,and ahs no duplicates elements.\n",
    "Python's set class represents the mathematical notion of a set.\n",
    "This is based on a data structure known as a hash table\n",
    "'''"
   ]
  },
  {
   "cell_type": "code",
   "execution_count": 4,
   "id": "c0ba53b1-6047-49bb-8bbd-947cb1bdcb0f",
   "metadata": {},
   "outputs": [
    {
     "name": "stdout",
     "output_type": "stream",
     "text": [
      "set()\n",
      "<class 'set'>\n"
     ]
    }
   ],
   "source": [
    "'''\n",
    "Defining an empty set\n",
    "'''\n",
    "\n",
    "set_var = set()\n",
    "print(set_var)\n",
    "print(type(set_var))"
   ]
  },
  {
   "cell_type": "code",
   "execution_count": 5,
   "id": "fa321254-7601-40f2-9b83-fdd4ecbc3f44",
   "metadata": {},
   "outputs": [
    {
     "name": "stdout",
     "output_type": "stream",
     "text": [
      "{'Avengers', 'Thor', 'Ironman'}\n",
      "<class 'set'>\n"
     ]
    }
   ],
   "source": [
    "set_var = {\"Avengers\", \"Ironman\", \"Thor\"}\n",
    "print(set_var)\n",
    "print(type(set_var))"
   ]
  },
  {
   "cell_type": "code",
   "execution_count": 6,
   "id": "e9aac299-09d8-40d5-a148-97eb06525a3e",
   "metadata": {},
   "outputs": [
    {
     "name": "stdout",
     "output_type": "stream",
     "text": [
      "{'Hulk', 'Avengers', 'Thor', 'Ironman'}\n"
     ]
    }
   ],
   "source": [
    "'''\n",
    "inbuilt functions in sets\n",
    "'''\n",
    "set_var.add(\"Hulk\")\n",
    "print(set_var)"
   ]
  },
  {
   "cell_type": "code",
   "execution_count": 13,
   "id": "14fddf8c-a690-4c2d-a5e4-be48808351a9",
   "metadata": {},
   "outputs": [
    {
     "name": "stdout",
     "output_type": "stream",
     "text": [
      "None\n",
      "{'Captian America', 'Avengers', 'Thor', 'Hulk', 'Loki', 'Marvel', 'Black Widow', 'Ironman'}\n",
      "\n",
      "None\n",
      "{'Captian America', 'Avengers', 'Hulk', 'Loki', 'Marvel', 'Black Widow', 'Ironman'}\n",
      "\n",
      "Captian America\n",
      "{'Avengers', 'Hulk', 'Loki', 'Marvel', 'Black Widow', 'Ironman'}\n",
      "\n",
      "None\n",
      "{'Avengers', 'Hulk', 'Marvel', 'Black Widow', 'Ironman'}\n"
     ]
    }
   ],
   "source": [
    "set_A = {\"Avengers\",\"Ironman\",\"Thor\",\"Hulk\",\"Captian America\",\"Black Widow\",\"Loki\"}\n",
    "#adds an elements to the set\n",
    "print(set_A.add(\"Marvel\"))\n",
    "print(set_A)\n",
    "\n",
    "print()\n",
    "\n",
    "#Removes a specified elements from the set\n",
    "print(set_A.remove(\"Thor\"))\n",
    "print(set_A)\n",
    "\n",
    "print()\n",
    "\n",
    "#Removes an arbitary elements from the set\n",
    "print(set_A.pop())\n",
    "print(set_A)\n",
    "\n",
    "print()\n",
    "\n",
    "#Removes a specified item from the set\n",
    "print(set_A.remove(\"Loki\"))\n",
    "print(set_A)"
   ]
  },
  {
   "cell_type": "code",
   "execution_count": 20,
   "id": "1320fd2e-224a-4587-ae37-bda4820f4b4d",
   "metadata": {},
   "outputs": [
    {
     "name": "stdout",
     "output_type": "stream",
     "text": [
      "{0, 1, 2, 3, 4, 5, 6, 7, 8, 9}\n",
      "\n",
      "{5, 6}\n",
      "\n",
      "{1, 2, 3, 4}\n",
      "\n",
      "None\n"
     ]
    }
   ],
   "source": [
    "set1 = {1,2,3,4,5,6}\n",
    "set2 = {5,6,7,8,9,0}\n",
    "print(set1.union(set2))\n",
    "\n",
    "print()\n",
    "\n",
    "print(set1.intersection(set2))\n",
    "\n",
    "print()\n",
    "\n",
    "print(set1.difference(set2))\n",
    "\n",
    "print()\n",
    "\n",
    "print(set1.difference_update(set2))"
   ]
  },
  {
   "cell_type": "code",
   "execution_count": null,
   "id": "7f489c13-cf13-4f93-9ab0-cad86ddddb77",
   "metadata": {},
   "outputs": [],
   "source": [
    "'''\n",
    "DICTIONARIES\n",
    "A dictionary is a collection which is unordered , changeable and indexed.\n",
    "In Python dictionaries are written with curly brackets,and they have keys and values.\n",
    "\n",
    "'''"
   ]
  },
  {
   "cell_type": "code",
   "execution_count": 23,
   "id": "22558bd2-43f2-4213-a8cc-9fa1eb2fcf67",
   "metadata": {},
   "outputs": [
    {
     "name": "stdout",
     "output_type": "stream",
     "text": [
      "{}\n",
      "<class 'dict'>\n"
     ]
    }
   ],
   "source": [
    "dic  = {}\n",
    "print(dic)\n",
    "print(type(dic))"
   ]
  },
  {
   "cell_type": "code",
   "execution_count": 25,
   "id": "97c5bf91-4252-451d-ab13-aa1efc0bcffb",
   "metadata": {},
   "outputs": [
    {
     "name": "stdout",
     "output_type": "stream",
     "text": [
      "{'car1': 'Audi', 'car2': 'BMW', 'car3': 'Mercidies benz'}\n",
      "<class 'dict'>\n"
     ]
    }
   ],
   "source": [
    "'''\n",
    "creating a dictionary\n",
    "'''\n",
    "\n",
    "my_dict = {\"car1\":\"Audi\",\"car2\":\"BMW\",\"car3\":\"Mercidies benz\"}\n",
    "print(my_dict)\n",
    "print(type(my_dict))"
   ]
  },
  {
   "cell_type": "code",
   "execution_count": 26,
   "id": "bb3e37de-ec2f-4614-9b70-3ef50b4a6414",
   "metadata": {},
   "outputs": [
    {
     "name": "stdout",
     "output_type": "stream",
     "text": [
      "Audi\n"
     ]
    }
   ],
   "source": [
    "'''\n",
    "Accessing the item values based on keys\n",
    "'''\n",
    "my_dict = {\"car1\":\"Audi\",\"car2\":\"BMW\",\"car3\":\"Mercidies benz\"}\n",
    "print(my_dict['car1'])"
   ]
  },
  {
   "cell_type": "code",
   "execution_count": 27,
   "id": "b1cfffb7-bfb4-4148-9403-16084510027a",
   "metadata": {},
   "outputs": [
    {
     "name": "stdout",
     "output_type": "stream",
     "text": [
      "car1\n",
      "car2\n",
      "car3\n"
     ]
    }
   ],
   "source": [
    "'''\n",
    "We can even loop throught the dictionries keys\n",
    "'''\n",
    "my_dict = {\"car1\":\"Audi\",\"car2\":\"BMW\",\"car3\":\"Mercidies benz\"}\n",
    "for i in my_dict:\n",
    "    print(i)"
   ]
  },
  {
   "cell_type": "code",
   "execution_count": 28,
   "id": "fab76499-fdfd-4528-bcaa-af6d99a0e7a2",
   "metadata": {},
   "outputs": [
    {
     "name": "stdout",
     "output_type": "stream",
     "text": [
      "Audi\n",
      "BMW\n",
      "Mercidies benz\n"
     ]
    }
   ],
   "source": [
    "'''\n",
    "We can even loop throught the dictionries values\n",
    "'''\n",
    "my_dict = {\"car1\":\"Audi\",\"car2\":\"BMW\",\"car3\":\"Mercidies benz\"}\n",
    "for i in my_dict.values():\n",
    "    print(i)"
   ]
  },
  {
   "cell_type": "code",
   "execution_count": 29,
   "id": "ef4ba483-3fbd-4f32-b5ac-ac72a8c3bea2",
   "metadata": {},
   "outputs": [
    {
     "name": "stdout",
     "output_type": "stream",
     "text": [
      "('car1', 'Audi')\n",
      "('car2', 'BMW')\n",
      "('car3', 'Mercidies benz')\n"
     ]
    }
   ],
   "source": [
    "'''\n",
    "we can also check both keys and values\n",
    "'''\n",
    "my_dict = {\"car1\":\"Audi\",\"car2\":\"BMW\",\"car3\":\"Mercidies benz\"}\n",
    "for i in my_dict.items():\n",
    "    print(i)"
   ]
  },
  {
   "cell_type": "code",
   "execution_count": 30,
   "id": "a315b44e-f00e-465f-a5ca-17030ff54382",
   "metadata": {},
   "outputs": [
    {
     "name": "stdout",
     "output_type": "stream",
     "text": [
      "{'car1': 'Audi', 'car2': 'BMW', 'car3': 'Mercidies benz', 'car4': 'superaa'}\n"
     ]
    }
   ],
   "source": [
    "'''\n",
    "Adding items in dictionaries\n",
    "'''\n",
    "my_dict[\"car4\"] = \"superaa\"\n",
    "print(my_dict)"
   ]
  },
  {
   "cell_type": "code",
   "execution_count": 31,
   "id": "6ec7634a-c553-437f-875f-38f3fd1bed54",
   "metadata": {},
   "outputs": [
    {
     "name": "stdout",
     "output_type": "stream",
     "text": [
      "{'car1': 'Maruthi', 'car2': 'BMW', 'car3': 'Mercidies benz', 'car4': 'superaa'}\n"
     ]
    }
   ],
   "source": [
    "'''\n",
    "Changing the values of the dictionary\n",
    "'''\n",
    "my_dict[\"car1\"] = \"Maruthi\"\n",
    "print(my_dict)"
   ]
  },
  {
   "cell_type": "code",
   "execution_count": null,
   "id": "63adaeda-6a80-46d0-a7f0-8d98261fd958",
   "metadata": {},
   "outputs": [],
   "source": [
    "# NESTED DICTIONARY"
   ]
  },
  {
   "cell_type": "code",
   "execution_count": 32,
   "id": "46e4765a-6180-45eb-988b-04835e1f7943",
   "metadata": {},
   "outputs": [
    {
     "name": "stdout",
     "output_type": "stream",
     "text": [
      "{'car1': {'Mercedes': 1960}, 'car2': {'Audi': 1970}, 'car3': {'ambassador': 1980}}\n"
     ]
    }
   ],
   "source": [
    "car1_model = {'Mercedes':1960}\n",
    "car2_model = {'Audi':1970}\n",
    "car3_model = {'ambassador':1980}\n",
    "\n",
    "car_type = {\"car1\":car1_model,\"car2\":car2_model,\"car3\":car3_model}\n",
    "print(car_type)"
   ]
  },
  {
   "cell_type": "code",
   "execution_count": 35,
   "id": "63092f60-7438-4662-910f-69d73977546f",
   "metadata": {},
   "outputs": [
    {
     "name": "stdout",
     "output_type": "stream",
     "text": [
      "{'Mercedes': 1960}\n",
      "\n",
      "1960\n"
     ]
    }
   ],
   "source": [
    "'''\n",
    "Accessing the items in the dictionary\n",
    "'''\n",
    "print(car_type['car1'])\n",
    "\n",
    "print()\n",
    "\n",
    "print(car_type['car1']['Mercedes'])"
   ]
  },
  {
   "cell_type": "code",
   "execution_count": null,
   "id": "04e1f78d-915c-4090-8163-b96132b44e4b",
   "metadata": {},
   "outputs": [],
   "source": [
    "'''\n",
    "TUPLES\n",
    " a tuple is a built-in data type that allows you to create immutable sequences of values.\n",
    "\n",
    " A tuple is an ordered collection of elements enclosed in round brackets.\n",
    " Unlike lists, tuples are unchangeable after creation.\n",
    " Tuples can contain heterogeneous data types (e.g., strings, integers, booleans).\n",
    "'''"
   ]
  },
  {
   "cell_type": "code",
   "execution_count": 37,
   "id": "10716d00-ec0d-4a31-bc77-3d315bd84954",
   "metadata": {},
   "outputs": [
    {
     "name": "stdout",
     "output_type": "stream",
     "text": [
      "()\n",
      "<class 'tuple'>\n"
     ]
    }
   ],
   "source": [
    " '''\n",
    "create an empty tuples\n",
    " '''\n",
    "my_tuples = tuple()\n",
    "print(my_tuples)\n",
    "print(type(my_tuples))"
   ]
  },
  {
   "cell_type": "code",
   "execution_count": 38,
   "id": "ba709e14-faaf-4cb6-9e64-8b9c245bd14e",
   "metadata": {},
   "outputs": [
    {
     "name": "stdout",
     "output_type": "stream",
     "text": [
      "('revi', 'Akbar', 'John')\n"
     ]
    }
   ],
   "source": [
    "my_tuples = (\"revi\",\"Akbar\",\"John\")\n",
    "print(my_tuples)\n"
   ]
  },
  {
   "cell_type": "code",
   "execution_count": 41,
   "id": "79ab9267-684b-4b3e-89aa-00d588a3edfb",
   "metadata": {},
   "outputs": [
    {
     "name": "stdout",
     "output_type": "stream",
     "text": [
      "0\n",
      "\n",
      "1\n",
      "\n",
      "3\n"
     ]
    }
   ],
   "source": [
    "'''\n",
    "inbuilt function\n",
    "'''\n",
    "my_tuples = (\"revi\",\"Akbar\",\"John\")\n",
    "print(my_tuples.index('revi'))\n",
    "\n",
    "print()\n",
    "\n",
    "print(my_tuples.count('John'))\n",
    "\n",
    "print()\n",
    "\n",
    "print(len(my_tuples))"
   ]
  },
  {
   "cell_type": "code",
   "execution_count": 42,
   "id": "ae8be325-d3d1-430b-92fa-79f0fe98176b",
   "metadata": {},
   "outputs": [
    {
     "name": "stdout",
     "output_type": "stream",
     "text": [
      "('abc', 34, True)\n"
     ]
    }
   ],
   "source": [
    "'''\n",
    "Tuples can contain strings, integers, booleans, and more\n",
    "'''\n",
    "mixed_tuple = (\"abc\", 34, True)\n",
    "print(mixed_tuple)"
   ]
  }
 ],
 "metadata": {
  "kernelspec": {
   "display_name": "Python 3 (ipykernel)",
   "language": "python",
   "name": "python3"
  },
  "language_info": {
   "codemirror_mode": {
    "name": "ipython",
    "version": 3
   },
   "file_extension": ".py",
   "mimetype": "text/x-python",
   "name": "python",
   "nbconvert_exporter": "python",
   "pygments_lexer": "ipython3",
   "version": "3.12.1"
  }
 },
 "nbformat": 4,
 "nbformat_minor": 5
}
